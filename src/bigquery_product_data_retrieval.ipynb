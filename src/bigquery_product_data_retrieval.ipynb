{
 "cells": [
  {
   "cell_type": "code",
   "execution_count": 1,
   "metadata": {},
   "outputs": [
    {
     "name": "stderr",
     "output_type": "stream",
     "text": [
      "DEBUG:jupyter_black:config: {'line_length': 100, 'target_versions': {<TargetVersion.PY310: 10>}}\n"
     ]
    },
    {
     "data": {
      "text/html": [
       "\n",
       "                <script type=\"application/javascript\" id=\"jupyter_black\">\n",
       "                function jb_set_cell(\n",
       "                        jb_formatted_code\n",
       "                        ) {\n",
       "                    for (var cell of Jupyter.notebook.get_cells()) {\n",
       "                        if (cell.input_prompt_number == \"*\") {\n",
       "                            cell.set_text(jb_formatted_code)\n",
       "                            return\n",
       "                        }\n",
       "                    }\n",
       "                }\n",
       "                </script>\n",
       "                "
      ],
      "text/plain": [
       "<IPython.core.display.HTML object>"
      ]
     },
     "metadata": {},
     "output_type": "display_data"
    }
   ],
   "source": [
    "import jupyter_black\n",
    "import black\n",
    "import gc\n",
    "from handlers import *\n",
    "from functools import reduce\n",
    "import pandas as pd\n",
    "\n",
    "gc.collect()\n",
    "\n",
    "jupyter_black.load(\n",
    "    lab=False,\n",
    "    line_length=100,\n",
    "    verbosity=\"DEBUG\",\n",
    "    target_version=black.TargetVersion.PY310,\n",
    ")"
   ]
  },
  {
   "cell_type": "code",
   "execution_count": 2,
   "metadata": {},
   "outputs": [],
   "source": [
    "# Retrieve only the most recent data from pdt_capacity\n",
    "\n",
    "retrieve_most_recent_pdt_capacity(dataset_id=\"v_extract1\", table_id=\"pdt_capacity\")"
   ]
  },
  {
   "cell_type": "code",
   "execution_count": 2,
   "metadata": {},
   "outputs": [],
   "source": [
    "pdt_capacity = read_bigquery_table(dataset_id=\"preprocessed\", table_id=\"pdt_capacity\", key_field=\"PRODUCTCODE\")"
   ]
  },
  {
   "cell_type": "code",
   "execution_count": 3,
   "metadata": {},
   "outputs": [],
   "source": [
    "pdt_incexcl = read_bigquery_table(dataset_id=\"v_extract1\", table_id=\"pdt_incexcl\", key_field=\"PRODUCTCODE\")"
   ]
  },
  {
   "cell_type": "code",
   "execution_count": 4,
   "metadata": {},
   "outputs": [],
   "source": [
    "pdt_inclexcl = read_bigquery_table(dataset_id=\"v_extract1\", table_id=\"pdt_inclexcl\", key_field=\"PRODUCTCODE\")"
   ]
  },
  {
   "cell_type": "code",
   "execution_count": 5,
   "metadata": {},
   "outputs": [],
   "source": [
    "pdt_inclexcl_ENG = read_bigquery_table(dataset_id=\"v_extract1\", table_id=\"pdt_inclexcl_ENG\", key_field=\"PRODUCTCODE\")"
   ]
  },
  {
   "cell_type": "code",
   "execution_count": 6,
   "metadata": {},
   "outputs": [],
   "source": [
    "pdt_itinerary = read_bigquery_table(dataset_id=\"v_extract1\", table_id=\"pdt_itinerary\", key_field=\"PRODUCTCODE\")"
   ]
  },
  {
   "cell_type": "code",
   "execution_count": 7,
   "metadata": {},
   "outputs": [],
   "source": [
    "pdt_product_detail = read_bigquery_table(dataset_id=\"v_extract1\", table_id=\"pdt_product_detail\", key_field=\"PRODUCTCODE\")"
   ]
  },
  {
   "cell_type": "code",
   "execution_count": 8,
   "metadata": {},
   "outputs": [],
   "source": [
    "pdt_product_level = read_bigquery_table(dataset_id=\"v_extract1\", table_id=\"pdt_product_level\", key_field=\"PRODUCTCODE\")"
   ]
  },
  {
   "cell_type": "code",
   "execution_count": 9,
   "metadata": {},
   "outputs": [],
   "source": [
    "pdt_reviews = read_bigquery_table(dataset_id=\"v_extract1\", table_id=\"pdt_reviews\", key_field=\"PRODUCTCODE\")"
   ]
  },
  {
   "cell_type": "code",
   "execution_count": 10,
   "metadata": {},
   "outputs": [],
   "source": [
    "pdt_tags = read_bigquery_table(dataset_id=\"v_extract1\", table_id=\"pdt_tags\", key_field=\"PRODUCTCODE\")"
   ]
  },
  {
   "cell_type": "code",
   "execution_count": 11,
   "metadata": {},
   "outputs": [],
   "source": [
    "pdt_tourgrades = read_bigquery_table(dataset_id=\"v_extract1\", table_id=\"pdt_tourgrades\", key_field=\"PRODUCTCODE\")"
   ]
  },
  {
   "cell_type": "code",
   "execution_count": 12,
   "metadata": {},
   "outputs": [],
   "source": [
    "tags_cleaned = read_bigquery_table(dataset_id=\"v_extract1\", table_id=\"tags_cleaned\", key_field=\"PRODUCTCODE\")"
   ]
  },
  {
   "cell_type": "code",
   "execution_count": 29,
   "metadata": {},
   "outputs": [],
   "source": [
    "product_df = reduce(merge_dfs, [pdt_capacity, pdt_incexcl, pdt_inclexcl, pdt_inclexcl_ENG, pdt_itinerary, pdt_product_detail, pdt_product_level, pdt_reviews, pdt_tags, pdt_tourgrades, tags_cleaned])"
   ]
  },
  {
   "cell_type": "code",
   "execution_count": 38,
   "metadata": {},
   "outputs": [],
   "source": [
    "product_df.to_pickle(\"../tmp/product_tables.pickle\")"
   ]
  }
 ],
 "metadata": {
  "kernelspec": {
   "display_name": "venv",
   "language": "python",
   "name": "python3"
  },
  "language_info": {
   "codemirror_mode": {
    "name": "ipython",
    "version": 3
   },
   "file_extension": ".py",
   "mimetype": "text/x-python",
   "name": "python",
   "nbconvert_exporter": "python",
   "pygments_lexer": "ipython3",
   "version": "3.11.2"
  }
 },
 "nbformat": 4,
 "nbformat_minor": 2
}
