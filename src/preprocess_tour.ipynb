{
 "cells": [
  {
   "cell_type": "code",
   "execution_count": 1,
   "metadata": {},
   "outputs": [
    {
     "name": "stderr",
     "output_type": "stream",
     "text": [
      "INFO:root:Successfully connected to MongoDB.\n"
     ]
    }
   ],
   "source": [
    "import gc\n",
    "\n",
    "import dash\n",
    "import pandas as pd\n",
    "import plotly.express as px\n",
    "import yaml\n",
    "from dash import dcc, html\n",
    "from dash.dependencies import Input, Output\n",
    "\n",
    "from mongodb_lib import *\n",
    "\n",
    "config_infra = yaml.load(open(\"../infra-config-pipeline.yaml\"), Loader=yaml.FullLoader)\n",
    "db, fs, client = connect_to_mongodb(config_infra)"
   ]
  },
  {
   "cell_type": "code",
   "execution_count": 2,
   "metadata": {},
   "outputs": [],
   "source": [
    "df = read_object(fs, \"product_tables\")\n"
   ]
  },
  {
   "cell_type": "code",
   "execution_count": 3,
   "metadata": {},
   "outputs": [],
   "source": [
    "df = pd.DataFrame(df)"
   ]
  },
  {
   "cell_type": "code",
   "execution_count": 4,
   "metadata": {},
   "outputs": [
    {
     "data": {
      "text/plain": [
       "(21264, 12)"
      ]
     },
     "execution_count": 4,
     "metadata": {},
     "output_type": "execute_result"
    }
   ],
   "source": [
    "df.shape"
   ]
  },
  {
   "cell_type": "code",
   "execution_count": 13,
   "metadata": {},
   "outputs": [
    {
     "data": {
      "text/html": [
       "<div>\n",
       "<style scoped>\n",
       "    .dataframe tbody tr th:only-of-type {\n",
       "        vertical-align: middle;\n",
       "    }\n",
       "\n",
       "    .dataframe tbody tr th {\n",
       "        vertical-align: top;\n",
       "    }\n",
       "\n",
       "    .dataframe thead th {\n",
       "        text-align: right;\n",
       "    }\n",
       "</style>\n",
       "<table border=\"1\" class=\"dataframe\">\n",
       "  <thead>\n",
       "    <tr style=\"text-align: right;\">\n",
       "      <th></th>\n",
       "      <th>PRODUCTCODE</th>\n",
       "      <th>pdt_inclexcl_ENG_CONTENT</th>\n",
       "      <th>pdt_inclexcl_ENG_VIDESTINATIONCITY</th>\n",
       "      <th>pdt_product_detail_VIDESTINATIONCITY</th>\n",
       "      <th>pdt_product_detail_PRODUCTDESCRIPTION</th>\n",
       "      <th>pdt_product_detail_PRODUCTTITLE</th>\n",
       "      <th>pdt_product_detail_TOURGRADEDESCRIPTION</th>\n",
       "      <th>pdt_product_detail_TOURGRADECODE</th>\n",
       "      <th>pdt_product_level_VIDESTINATIONCITY</th>\n",
       "      <th>pdt_product_level_ISPRIVATETOUR</th>\n",
       "      <th>pdt_product_level_SUPPLIERCODE</th>\n",
       "      <th>bookings_MOSTRECENTORDERDATE</th>\n",
       "    </tr>\n",
       "  </thead>\n",
       "  <tbody>\n",
       "    <tr>\n",
       "      <th>16792</th>\n",
       "      <td>5716GOLFWINE</td>\n",
       "      <td>[ Skip-the-line entry tickets to the Basilica ...</td>\n",
       "      <td>[Barcelona]</td>\n",
       "      <td>[Barcelona]</td>\n",
       "      <td>[Enjoy a relaxing, scenic getaway from bustlin...</td>\n",
       "      <td>[Montserrat Half-Day Tour with Tapas and Gourm...</td>\n",
       "      <td>[Enjoy a relaxing, scenic getaway from bustlin...</td>\n",
       "      <td>[TG3]</td>\n",
       "      <td>[Barcelona]</td>\n",
       "      <td>[False]</td>\n",
       "      <td>[5716]</td>\n",
       "      <td>[1707350400000]</td>\n",
       "    </tr>\n",
       "    <tr>\n",
       "      <th>16802</th>\n",
       "      <td>5716P4</td>\n",
       "      <td>[Visit a boutique winery, Three wine tasting, ...</td>\n",
       "      <td>[Barcelona]</td>\n",
       "      <td>[Barcelona]</td>\n",
       "      <td>[If you really want to get to know Barcelona a...</td>\n",
       "      <td>[Montserrat with Cogwheel Train,Gourmet Wine T...</td>\n",
       "      <td>[Ride to Montserrat on a cogwheel train. Sampl...</td>\n",
       "      <td>[TG2, TG1]</td>\n",
       "      <td>[Barcelona]</td>\n",
       "      <td>[False]</td>\n",
       "      <td>[5716]</td>\n",
       "      <td>[1707350400000]</td>\n",
       "    </tr>\n",
       "  </tbody>\n",
       "</table>\n",
       "</div>"
      ],
      "text/plain": [
       "        PRODUCTCODE                           pdt_inclexcl_ENG_CONTENT  \\\n",
       "16792  5716GOLFWINE  [ Skip-the-line entry tickets to the Basilica ...   \n",
       "16802        5716P4  [Visit a boutique winery, Three wine tasting, ...   \n",
       "\n",
       "      pdt_inclexcl_ENG_VIDESTINATIONCITY pdt_product_detail_VIDESTINATIONCITY  \\\n",
       "16792                        [Barcelona]                          [Barcelona]   \n",
       "16802                        [Barcelona]                          [Barcelona]   \n",
       "\n",
       "                   pdt_product_detail_PRODUCTDESCRIPTION  \\\n",
       "16792  [Enjoy a relaxing, scenic getaway from bustlin...   \n",
       "16802  [If you really want to get to know Barcelona a...   \n",
       "\n",
       "                         pdt_product_detail_PRODUCTTITLE  \\\n",
       "16792  [Montserrat Half-Day Tour with Tapas and Gourm...   \n",
       "16802  [Montserrat with Cogwheel Train,Gourmet Wine T...   \n",
       "\n",
       "                 pdt_product_detail_TOURGRADEDESCRIPTION  \\\n",
       "16792  [Enjoy a relaxing, scenic getaway from bustlin...   \n",
       "16802  [Ride to Montserrat on a cogwheel train. Sampl...   \n",
       "\n",
       "      pdt_product_detail_TOURGRADECODE pdt_product_level_VIDESTINATIONCITY  \\\n",
       "16792                            [TG3]                         [Barcelona]   \n",
       "16802                       [TG2, TG1]                         [Barcelona]   \n",
       "\n",
       "      pdt_product_level_ISPRIVATETOUR pdt_product_level_SUPPLIERCODE  \\\n",
       "16792                         [False]                         [5716]   \n",
       "16802                         [False]                         [5716]   \n",
       "\n",
       "      bookings_MOSTRECENTORDERDATE  \n",
       "16792              [1707350400000]  \n",
       "16802              [1707350400000]  "
      ]
     },
     "execution_count": 13,
     "metadata": {},
     "output_type": "execute_result"
    }
   ],
   "source": [
    "df_"
   ]
  },
  {
   "cell_type": "code",
   "execution_count": null,
   "metadata": {},
   "outputs": [],
   "source": []
  }
 ],
 "metadata": {
  "kernelspec": {
   "display_name": "venv",
   "language": "python",
   "name": "python3"
  },
  "language_info": {
   "codemirror_mode": {
    "name": "ipython",
    "version": 3
   },
   "file_extension": ".py",
   "mimetype": "text/x-python",
   "name": "python",
   "nbconvert_exporter": "python",
   "pygments_lexer": "ipython3",
   "version": "3.10.12"
  }
 },
 "nbformat": 4,
 "nbformat_minor": 2
}
