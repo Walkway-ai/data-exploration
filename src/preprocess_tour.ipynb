{
 "cells": [
  {
   "cell_type": "code",
   "execution_count": 2,
   "metadata": {},
   "outputs": [
    {
     "name": "stderr",
     "output_type": "stream",
     "text": [
      "INFO:root:Successfully connected to MongoDB.\n"
     ]
    }
   ],
   "source": [
    "import gc\n",
    "\n",
    "import dash\n",
    "import pandas as pd\n",
    "import plotly.express as px\n",
    "import yaml\n",
    "from dash import dcc, html\n",
    "from dash.dependencies import Input, Output\n",
    "\n",
    "from mongodb_lib import *\n",
    "\n",
    "config_infra = yaml.load(open(\"../infra-config-pipeline.yaml\"), Loader=yaml.FullLoader)\n",
    "db, fs, client = connect_to_mongodb(config_infra)"
   ]
  },
  {
   "cell_type": "code",
   "execution_count": 5,
   "metadata": {},
   "outputs": [],
   "source": [
    "df = read_object(fs, \"product_textual_english_summarized\")\n",
    "df = pd.DataFrame(df)"
   ]
  },
  {
   "cell_type": "code",
   "execution_count": 16,
   "metadata": {},
   "outputs": [
    {
     "name": "stdout",
     "output_type": "stream",
     "text": [
      "Title: Montmartre/Sacre-Coeur/Paris- Artistic & Bohemian Epicenter \n",
      "Description: Walking tour covers must-see spot as well as hidden treasures of Montmartre Village. Walking in the footsteps of the impressionist artists who were inspired by local sites. You see film shot spots of famous French ‘ Amelie of MontMartre’ and many more.\n"
     ]
    }
   ],
   "source": [
    "prd_id=\"129335P2\"\n",
    "print(\"Title: \" + list(df[df[\"PRODUCTCODE\"]==prd_id][\"pdt_product_detail_PRODUCTTITLE_translated\"])[0])\n",
    "print(\"Description: \" + list(df[df[\"PRODUCTCODE\"]==prd_id][\"pdt_product_detail_PRODUCTDESCRIPTION_SUMMARIZED\"])[0])"
   ]
  },
  {
   "cell_type": "code",
   "execution_count": 17,
   "metadata": {},
   "outputs": [
    {
     "name": "stdout",
     "output_type": "stream",
     "text": [
      "Title: Montmarte and Sacré-Coeur with the best guides in Paris\n",
      "Description: Explore the picturesque alleys of Montmartre. Stroll along the rue des Abbesses, witness to an ancient history. Admire the breathtaking panoramic view of Paris.\n",
      "Title: Bohemian Montmartre Private Walking Tour \n",
      "Description: The Moulin Rouge and Sacré Coeur are just a few of the sights to explore. The tour normally starts at 9.30am but I can be flexible, please message me. I can also adapt to your timing.\n",
      "Title: Discover Paris: Hidden Montmartre Tour\n",
      "Description: Explore the cobbled streets of Montmartre, the fabled 2,000-year-old district. Taste one of the best butter croissants in all of Paris. Discover the Sacre-Coeur Basilica from a different angle.\n"
     ]
    }
   ],
   "source": [
    "lll = ['366458P5', '416844P1', '5944P8']\n",
    "\n",
    "for el in lll:\n",
    "\n",
    "    print(\"Title: \" + list(df[df[\"PRODUCTCODE\"]==el][\"pdt_product_detail_PRODUCTTITLE_translated\"])[0])\n",
    "    print(\"Description: \" + list(df[df[\"PRODUCTCODE\"]==el][\"pdt_product_detail_PRODUCTDESCRIPTION_SUMMARIZED\"])[0])"
   ]
  },
  {
   "cell_type": "markdown",
   "metadata": {},
   "source": []
  },
  {
   "cell_type": "code",
   "execution_count": null,
   "metadata": {},
   "outputs": [],
   "source": []
  }
 ],
 "metadata": {
  "kernelspec": {
   "display_name": "venv",
   "language": "python",
   "name": "python3"
  },
  "language_info": {
   "codemirror_mode": {
    "name": "ipython",
    "version": 3
   },
   "file_extension": ".py",
   "mimetype": "text/x-python",
   "name": "python",
   "nbconvert_exporter": "python",
   "pygments_lexer": "ipython3",
   "version": "3.10.12"
  }
 },
 "nbformat": 4,
 "nbformat_minor": 2
}
