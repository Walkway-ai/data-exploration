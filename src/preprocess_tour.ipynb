{
 "cells": [
  {
   "cell_type": "code",
   "execution_count": 2,
   "metadata": {},
   "outputs": [],
   "source": [
    "import pandas as pd\n",
    "import os\n",
    "from tqdm import tqdm"
   ]
  },
  {
   "cell_type": "code",
   "execution_count": 3,
   "metadata": {},
   "outputs": [],
   "source": [
    "files = os.listdir(\"../tour_grade_time_series\")\n",
    "files = [os.path.join(\"../tour_grade_time_series\", f) for f in files if os.path.isfile(os.path.join(\"../tour_grade_time_series\", f))]\n"
   ]
  },
  {
   "cell_type": "code",
   "execution_count": 4,
   "metadata": {},
   "outputs": [
    {
     "name": "stderr",
     "output_type": "stream",
     "text": [
      "  4%|▍         | 1/24 [00:01<00:25,  1.10s/it]"
     ]
    },
    {
     "name": "stdout",
     "output_type": "stream",
     "text": [
      "(3458438, 7)\n"
     ]
    },
    {
     "name": "stderr",
     "output_type": "stream",
     "text": [
      "  8%|▊         | 2/24 [00:02<00:33,  1.53s/it]"
     ]
    },
    {
     "name": "stdout",
     "output_type": "stream",
     "text": [
      "(8483159, 7)\n"
     ]
    },
    {
     "name": "stderr",
     "output_type": "stream",
     "text": [
      " 12%|█▎        | 3/24 [00:04<00:32,  1.56s/it]"
     ]
    },
    {
     "name": "stdout",
     "output_type": "stream",
     "text": [
      "(12263781, 7)\n"
     ]
    },
    {
     "name": "stderr",
     "output_type": "stream",
     "text": [
      " 17%|█▋        | 4/24 [00:07<00:38,  1.92s/it]"
     ]
    },
    {
     "name": "stdout",
     "output_type": "stream",
     "text": [
      "(16682187, 7)\n"
     ]
    },
    {
     "name": "stderr",
     "output_type": "stream",
     "text": [
      " 21%|██        | 5/24 [00:10<00:45,  2.39s/it]"
     ]
    },
    {
     "name": "stdout",
     "output_type": "stream",
     "text": [
      "(20986596, 7)\n"
     ]
    },
    {
     "name": "stderr",
     "output_type": "stream",
     "text": [
      " 25%|██▌       | 6/24 [00:13<00:50,  2.82s/it]"
     ]
    },
    {
     "name": "stdout",
     "output_type": "stream",
     "text": [
      "(25812142, 7)\n"
     ]
    },
    {
     "name": "stderr",
     "output_type": "stream",
     "text": [
      " 29%|██▉       | 7/24 [00:17<00:50,  2.94s/it]"
     ]
    },
    {
     "name": "stdout",
     "output_type": "stream",
     "text": [
      "(30065280, 7)\n"
     ]
    },
    {
     "name": "stderr",
     "output_type": "stream",
     "text": [
      " 33%|███▎      | 8/24 [00:20<00:49,  3.11s/it]"
     ]
    },
    {
     "name": "stdout",
     "output_type": "stream",
     "text": [
      "(34916244, 7)\n"
     ]
    },
    {
     "name": "stderr",
     "output_type": "stream",
     "text": [
      " 38%|███▊      | 9/24 [00:23<00:48,  3.22s/it]"
     ]
    },
    {
     "name": "stdout",
     "output_type": "stream",
     "text": [
      "(39352434, 7)\n"
     ]
    },
    {
     "name": "stderr",
     "output_type": "stream",
     "text": [
      " 42%|████▏     | 10/24 [00:27<00:47,  3.36s/it]"
     ]
    },
    {
     "name": "stdout",
     "output_type": "stream",
     "text": [
      "(44081892, 7)\n"
     ]
    },
    {
     "name": "stderr",
     "output_type": "stream",
     "text": [
      " 46%|████▌     | 11/24 [00:31<00:45,  3.49s/it]"
     ]
    },
    {
     "name": "stdout",
     "output_type": "stream",
     "text": [
      "(48761858, 7)\n"
     ]
    },
    {
     "name": "stderr",
     "output_type": "stream",
     "text": [
      " 50%|█████     | 12/24 [00:35<00:43,  3.62s/it]"
     ]
    },
    {
     "name": "stdout",
     "output_type": "stream",
     "text": [
      "(53008376, 7)\n"
     ]
    },
    {
     "name": "stderr",
     "output_type": "stream",
     "text": [
      " 54%|█████▍    | 13/24 [00:39<00:39,  3.63s/it]"
     ]
    },
    {
     "name": "stdout",
     "output_type": "stream",
     "text": [
      "(56755335, 7)\n"
     ]
    },
    {
     "name": "stderr",
     "output_type": "stream",
     "text": [
      " 58%|█████▊    | 14/24 [00:42<00:36,  3.66s/it]"
     ]
    },
    {
     "name": "stdout",
     "output_type": "stream",
     "text": [
      "(60431394, 7)\n"
     ]
    },
    {
     "name": "stderr",
     "output_type": "stream",
     "text": [
      " 62%|██████▎   | 15/24 [00:46<00:33,  3.70s/it]"
     ]
    },
    {
     "name": "stdout",
     "output_type": "stream",
     "text": [
      "(64079027, 7)\n"
     ]
    },
    {
     "name": "stderr",
     "output_type": "stream",
     "text": [
      " 67%|██████▋   | 16/24 [00:50<00:30,  3.85s/it]"
     ]
    },
    {
     "name": "stdout",
     "output_type": "stream",
     "text": [
      "(68406855, 7)\n"
     ]
    },
    {
     "name": "stderr",
     "output_type": "stream",
     "text": [
      " 71%|███████   | 17/24 [00:55<00:27,  3.98s/it]"
     ]
    },
    {
     "name": "stdout",
     "output_type": "stream",
     "text": [
      "(72270150, 7)\n"
     ]
    },
    {
     "name": "stderr",
     "output_type": "stream",
     "text": [
      " 75%|███████▌  | 18/24 [00:59<00:24,  4.16s/it]"
     ]
    },
    {
     "name": "stdout",
     "output_type": "stream",
     "text": [
      "(76436970, 7)\n"
     ]
    },
    {
     "name": "stderr",
     "output_type": "stream",
     "text": [
      " 79%|███████▉  | 19/24 [01:04<00:21,  4.39s/it]"
     ]
    },
    {
     "name": "stdout",
     "output_type": "stream",
     "text": [
      "(80999385, 7)\n"
     ]
    },
    {
     "name": "stderr",
     "output_type": "stream",
     "text": [
      " 83%|████████▎ | 20/24 [01:09<00:18,  4.61s/it]"
     ]
    },
    {
     "name": "stdout",
     "output_type": "stream",
     "text": [
      "(85356091, 7)\n"
     ]
    },
    {
     "name": "stderr",
     "output_type": "stream",
     "text": [
      " 88%|████████▊ | 21/24 [01:14<00:14,  4.77s/it]"
     ]
    },
    {
     "name": "stdout",
     "output_type": "stream",
     "text": [
      "(89416807, 7)\n"
     ]
    },
    {
     "name": "stderr",
     "output_type": "stream",
     "text": [
      " 92%|█████████▏| 22/24 [01:20<00:09,  4.94s/it]"
     ]
    },
    {
     "name": "stdout",
     "output_type": "stream",
     "text": [
      "(93841605, 7)\n"
     ]
    },
    {
     "name": "stderr",
     "output_type": "stream",
     "text": [
      " 96%|█████████▌| 23/24 [01:25<00:05,  5.21s/it]"
     ]
    },
    {
     "name": "stdout",
     "output_type": "stream",
     "text": [
      "(99229048, 7)\n"
     ]
    },
    {
     "name": "stderr",
     "output_type": "stream",
     "text": [
      "100%|██████████| 24/24 [01:31<00:00,  3.82s/it]"
     ]
    },
    {
     "name": "stdout",
     "output_type": "stream",
     "text": [
      "(103607977, 7)\n"
     ]
    },
    {
     "name": "stderr",
     "output_type": "stream",
     "text": [
      "\n"
     ]
    }
   ],
   "source": [
    "df = pd.DataFrame()\n",
    "\n",
    "for file in tqdm(files):\n",
    "\n",
    "    tmp = pd.read_csv(file)\n",
    "    df = pd.concat([df, tmp], axis=0)\n",
    "\n",
    "    print(df.shape)"
   ]
  },
  {
   "cell_type": "code",
   "execution_count": 5,
   "metadata": {},
   "outputs": [],
   "source": [
    "df = df.fillna(\"\")"
   ]
  },
  {
   "cell_type": "code",
   "execution_count": 6,
   "metadata": {},
   "outputs": [
    {
     "data": {
      "text/html": [
       "<div>\n",
       "<style scoped>\n",
       "    .dataframe tbody tr th:only-of-type {\n",
       "        vertical-align: middle;\n",
       "    }\n",
       "\n",
       "    .dataframe tbody tr th {\n",
       "        vertical-align: top;\n",
       "    }\n",
       "\n",
       "    .dataframe thead th {\n",
       "        text-align: right;\n",
       "    }\n",
       "</style>\n",
       "<table border=\"1\" class=\"dataframe\">\n",
       "  <thead>\n",
       "    <tr style=\"text-align: right;\">\n",
       "      <th></th>\n",
       "      <th>ProductCode</th>\n",
       "      <th>TourGradeCode</th>\n",
       "      <th>SeasonFrom</th>\n",
       "      <th>SeasonTo</th>\n",
       "      <th>week_day</th>\n",
       "      <th>start_time</th>\n",
       "      <th>adult_retail_price</th>\n",
       "    </tr>\n",
       "  </thead>\n",
       "  <tbody>\n",
       "    <tr>\n",
       "      <th>0</th>\n",
       "      <td>102726P19</td>\n",
       "      <td>TG1</td>\n",
       "      <td>2020-03-11</td>\n",
       "      <td>2099-12-31</td>\n",
       "      <td>U</td>\n",
       "      <td>22:30</td>\n",
       "      <td>100.0</td>\n",
       "    </tr>\n",
       "    <tr>\n",
       "      <th>1</th>\n",
       "      <td>102726P19</td>\n",
       "      <td>TG2</td>\n",
       "      <td>2020-03-11</td>\n",
       "      <td>2099-12-31</td>\n",
       "      <td>F</td>\n",
       "      <td>21:30</td>\n",
       "      <td>135.0</td>\n",
       "    </tr>\n",
       "    <tr>\n",
       "      <th>2</th>\n",
       "      <td>102726P19</td>\n",
       "      <td>TG2</td>\n",
       "      <td>2020-03-11</td>\n",
       "      <td>2099-12-31</td>\n",
       "      <td>M</td>\n",
       "      <td>02:30</td>\n",
       "      <td>115.0</td>\n",
       "    </tr>\n",
       "    <tr>\n",
       "      <th>3</th>\n",
       "      <td>102726P19</td>\n",
       "      <td>TG1</td>\n",
       "      <td>2020-03-11</td>\n",
       "      <td>2099-12-31</td>\n",
       "      <td>M</td>\n",
       "      <td>04:30</td>\n",
       "      <td>833.34</td>\n",
       "    </tr>\n",
       "    <tr>\n",
       "      <th>4</th>\n",
       "      <td>102726P19</td>\n",
       "      <td>TG2</td>\n",
       "      <td>2020-03-11</td>\n",
       "      <td>2099-12-31</td>\n",
       "      <td>H</td>\n",
       "      <td>23:00</td>\n",
       "      <td>97.23</td>\n",
       "    </tr>\n",
       "    <tr>\n",
       "      <th>...</th>\n",
       "      <td>...</td>\n",
       "      <td>...</td>\n",
       "      <td>...</td>\n",
       "      <td>...</td>\n",
       "      <td>...</td>\n",
       "      <td>...</td>\n",
       "      <td>...</td>\n",
       "    </tr>\n",
       "    <tr>\n",
       "      <th>4378924</th>\n",
       "      <td>5049P50</td>\n",
       "      <td>TG8</td>\n",
       "      <td>2024-03-03</td>\n",
       "      <td>2025-02-28</td>\n",
       "      <td>F</td>\n",
       "      <td>10:00</td>\n",
       "      <td>39.0</td>\n",
       "    </tr>\n",
       "    <tr>\n",
       "      <th>4378925</th>\n",
       "      <td>5049P50</td>\n",
       "      <td>TG8</td>\n",
       "      <td>2024-03-03</td>\n",
       "      <td>2025-02-28</td>\n",
       "      <td>S</td>\n",
       "      <td>10:00</td>\n",
       "      <td>39.0</td>\n",
       "    </tr>\n",
       "    <tr>\n",
       "      <th>4378926</th>\n",
       "      <td>5049P50</td>\n",
       "      <td>TG8</td>\n",
       "      <td>2024-03-03</td>\n",
       "      <td>2025-02-28</td>\n",
       "      <td>T</td>\n",
       "      <td>10:00</td>\n",
       "      <td>39.0</td>\n",
       "    </tr>\n",
       "    <tr>\n",
       "      <th>4378927</th>\n",
       "      <td>5049P50</td>\n",
       "      <td>TG8</td>\n",
       "      <td>2024-03-03</td>\n",
       "      <td>2025-02-28</td>\n",
       "      <td>H</td>\n",
       "      <td>10:00</td>\n",
       "      <td>39.0</td>\n",
       "    </tr>\n",
       "    <tr>\n",
       "      <th>4378928</th>\n",
       "      <td>5232P36</td>\n",
       "      <td>DEFAULT</td>\n",
       "      <td>2024-03-03</td>\n",
       "      <td>2024-03-03</td>\n",
       "      <td>U</td>\n",
       "      <td>06:30</td>\n",
       "      <td>75.0</td>\n",
       "    </tr>\n",
       "  </tbody>\n",
       "</table>\n",
       "<p>103607977 rows × 7 columns</p>\n",
       "</div>"
      ],
      "text/plain": [
       "        ProductCode TourGradeCode  SeasonFrom    SeasonTo week_day start_time  \\\n",
       "0         102726P19           TG1  2020-03-11  2099-12-31        U      22:30   \n",
       "1         102726P19           TG2  2020-03-11  2099-12-31        F      21:30   \n",
       "2         102726P19           TG2  2020-03-11  2099-12-31        M      02:30   \n",
       "3         102726P19           TG1  2020-03-11  2099-12-31        M      04:30   \n",
       "4         102726P19           TG2  2020-03-11  2099-12-31        H      23:00   \n",
       "...             ...           ...         ...         ...      ...        ...   \n",
       "4378924     5049P50           TG8  2024-03-03  2025-02-28        F      10:00   \n",
       "4378925     5049P50           TG8  2024-03-03  2025-02-28        S      10:00   \n",
       "4378926     5049P50           TG8  2024-03-03  2025-02-28        T      10:00   \n",
       "4378927     5049P50           TG8  2024-03-03  2025-02-28        H      10:00   \n",
       "4378928     5232P36       DEFAULT  2024-03-03  2024-03-03        U      06:30   \n",
       "\n",
       "        adult_retail_price  \n",
       "0                    100.0  \n",
       "1                    135.0  \n",
       "2                    115.0  \n",
       "3                   833.34  \n",
       "4                    97.23  \n",
       "...                    ...  \n",
       "4378924               39.0  \n",
       "4378925               39.0  \n",
       "4378926               39.0  \n",
       "4378927               39.0  \n",
       "4378928               75.0  \n",
       "\n",
       "[103607977 rows x 7 columns]"
      ]
     },
     "execution_count": 6,
     "metadata": {},
     "output_type": "execute_result"
    }
   ],
   "source": [
    "df"
   ]
  },
  {
   "cell_type": "code",
   "execution_count": 7,
   "metadata": {},
   "outputs": [],
   "source": [
    "df['SeasonFrom'] = pd.to_datetime(df['SeasonFrom'])\n",
    "df['SeasonTo'] = pd.to_datetime(df['SeasonTo'])"
   ]
  },
  {
   "cell_type": "code",
   "execution_count": 8,
   "metadata": {},
   "outputs": [],
   "source": [
    "# Products should be active at least in 2022\n",
    "\n",
    "cutoff_date = pd.to_datetime('2022-01-01')\n",
    "df = df[df['SeasonTo'] >= cutoff_date]\n",
    "\n",
    "# If future dates, keep current date as maximum\n",
    "\n",
    "cutoff_date = pd.to_datetime('2024-07-01')\n",
    "df.loc[df['SeasonTo'] > cutoff_date, 'SeasonTo'] = cutoff_date\n",
    "\n",
    "# If start dates is in the future, keep current date as minimum\n",
    "\n",
    "cutoff_date = pd.to_datetime('2024-07-01')\n",
    "df.loc[df['SeasonFrom'] > cutoff_date, 'SeasonFrom'] = cutoff_date"
   ]
  },
  {
   "cell_type": "code",
   "execution_count": 9,
   "metadata": {},
   "outputs": [],
   "source": [
    "df = df.drop_duplicates()"
   ]
  },
  {
   "cell_type": "code",
   "execution_count": 13,
   "metadata": {},
   "outputs": [],
   "source": [
    "from pandas_gbq import to_gbq"
   ]
  },
  {
   "cell_type": "code",
   "execution_count": 1,
   "metadata": {},
   "outputs": [
    {
     "ename": "NameError",
     "evalue": "name 'df' is not defined",
     "output_type": "error",
     "traceback": [
      "\u001b[0;31m---------------------------------------------------------------------------\u001b[0m",
      "\u001b[0;31mNameError\u001b[0m                                 Traceback (most recent call last)",
      "Cell \u001b[0;32mIn[1], line 1\u001b[0m\n\u001b[0;32m----> 1\u001b[0m \u001b[43mdf\u001b[49m\n",
      "\u001b[0;31mNameError\u001b[0m: name 'df' is not defined"
     ]
    }
   ],
   "source": [
    "df"
   ]
  },
  {
   "cell_type": "code",
   "execution_count": 14,
   "metadata": {},
   "outputs": [],
   "source": [
    "df[\"adult_retail_price\"] = df[\"adult_retail_price\"].astype(str)"
   ]
  },
  {
   "cell_type": "code",
   "execution_count": 16,
   "metadata": {},
   "outputs": [
    {
     "name": "stderr",
     "output_type": "stream",
     "text": [
      "100%|██████████| 1/1 [00:00<00:00, 19328.59it/s]\n"
     ]
    }
   ],
   "source": [
    "to_gbq(df, \"v_extract1.product_price_time_series\", project_id=\"ww-da-ingestion\", if_exists=\"replace\")"
   ]
  },
  {
   "cell_type": "code",
   "execution_count": 2,
   "metadata": {},
   "outputs": [
    {
     "name": "stderr",
     "output_type": "stream",
     "text": [
      "INFO:root:Successfully connected to MongoDB.\n"
     ]
    }
   ],
   "source": [
    "import gc\n",
    "\n",
    "import dash\n",
    "import pandas as pd\n",
    "import plotly.express as px\n",
    "import yaml\n",
    "from dash import dcc, html\n",
    "from dash.dependencies import Input, Output\n",
    "\n",
    "from mongodb_lib import *\n",
    "\n",
    "config_infra = yaml.load(open(\"../infra-config-pipeline.yaml\"), Loader=yaml.FullLoader)\n",
    "db, fs, client = connect_to_mongodb(config_infra)"
   ]
  },
  {
   "cell_type": "code",
   "execution_count": 15,
   "metadata": {},
   "outputs": [],
   "source": [
    "df = read_object(fs, \"product_textual\")\n",
    "df = pd.DataFrame(df)"
   ]
  },
  {
   "cell_type": "code",
   "execution_count": 3,
   "metadata": {},
   "outputs": [],
   "source": [
    "df_cont = read_object(fs, \"product_textual_lang\")\n",
    "df_cont = pd.DataFrame(df_cont)"
   ]
  },
  {
   "cell_type": "code",
   "execution_count": 6,
   "metadata": {},
   "outputs": [
    {
     "name": "stderr",
     "output_type": "stream",
     "text": [
      "/tmp/ipykernel_1750473/2023272634.py:1: FutureWarning: Series.__getitem__ treating keys as positions is deprecated. In a future version, integer keys will always be treated as labels (consistent with DataFrame behavior). To access a value by position, use `ser.iloc[pos]`\n",
      "  df_cont[\"pdt_product_detail_TOURGRADEDESCRIPTION\"][0]\n"
     ]
    },
    {
     "data": {
      "text/plain": [
       "\"['You can choose between two dates.- Sun, 9 Jun 2019 to Fri, 14 Jun 2019- Sun, 4 Aug 2019 to Fri, 9 Aug 2019\\\\n']\""
      ]
     },
     "execution_count": 6,
     "metadata": {},
     "output_type": "execute_result"
    }
   ],
   "source": [
    "df_cont[\"pdt_product_detail_TOURGRADEDESCRIPTION\"][0]"
   ]
  },
  {
   "cell_type": "code",
   "execution_count": null,
   "metadata": {},
   "outputs": [],
   "source": []
  }
 ],
 "metadata": {
  "kernelspec": {
   "display_name": "venv",
   "language": "python",
   "name": "python3"
  },
  "language_info": {
   "codemirror_mode": {
    "name": "ipython",
    "version": 3
   },
   "file_extension": ".py",
   "mimetype": "text/x-python",
   "name": "python",
   "nbconvert_exporter": "python",
   "pygments_lexer": "ipython3",
   "version": "3.10.12"
  }
 },
 "nbformat": 4,
 "nbformat_minor": 2
}
