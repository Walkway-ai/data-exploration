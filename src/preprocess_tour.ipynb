{
 "cells": [
  {
   "cell_type": "code",
   "execution_count": null,
   "metadata": {},
   "outputs": [],
   "source": [
    "import pandas as pd\n",
    "import os\n",
    "from tqdm import tqdm"
   ]
  },
  {
   "cell_type": "code",
   "execution_count": null,
   "metadata": {},
   "outputs": [],
   "source": [
    "files = os.listdir(\"../tour_grade_time_series\")\n",
    "files = [os.path.join(\"../tour_grade_time_series\", f) for f in files if os.path.isfile(os.path.join(\"../tour_grade_time_series\", f))]\n"
   ]
  },
  {
   "cell_type": "code",
   "execution_count": null,
   "metadata": {},
   "outputs": [],
   "source": [
    "df = pd.DataFrame()\n",
    "\n",
    "for file in tqdm(files):\n",
    "\n",
    "    tmp = pd.read_csv(file)\n",
    "    df = pd.concat([df, tmp], axis=0)\n",
    "\n",
    "    print(df.shape)"
   ]
  },
  {
   "cell_type": "code",
   "execution_count": null,
   "metadata": {},
   "outputs": [],
   "source": [
    "df = df.fillna(\"\")\n",
    "df = df[df[\"week_day\"]!=\"\"]"
   ]
  },
  {
   "cell_type": "code",
   "execution_count": null,
   "metadata": {},
   "outputs": [],
   "source": [
    "df['SeasonFrom'] = pd.to_datetime(df['SeasonFrom'])\n",
    "df['SeasonTo'] = pd.to_datetime(df['SeasonTo'])"
   ]
  },
  {
   "cell_type": "code",
   "execution_count": null,
   "metadata": {},
   "outputs": [],
   "source": [
    "# Products should be active at least in 2022\n",
    "\n",
    "cutoff_date = pd.to_datetime('2022-01-01')\n",
    "df = df[df['SeasonTo'] >= cutoff_date]\n",
    "\n",
    "# If future dates, keep current date as maximum\n",
    "\n",
    "cutoff_date = pd.to_datetime('2024-07-01')\n",
    "df.loc[df['SeasonTo'] > cutoff_date, 'SeasonTo'] = cutoff_date\n",
    "\n",
    "# If start dates is in the future, keep current date as minimum\n",
    "\n",
    "cutoff_date = pd.to_datetime('2024-07-01')\n",
    "df.loc[df['SeasonFrom'] > cutoff_date, 'SeasonFrom'] = cutoff_date"
   ]
  },
  {
   "cell_type": "code",
   "execution_count": null,
   "metadata": {},
   "outputs": [],
   "source": [
    "df = df.drop_duplicates()"
   ]
  },
  {
   "cell_type": "code",
   "execution_count": null,
   "metadata": {},
   "outputs": [],
   "source": [
    "df.to_pickle(\"../tour_grade_time_series.pickle\")"
   ]
  },
  {
   "cell_type": "markdown",
   "metadata": {},
   "source": [
    "# Preprocess data"
   ]
  },
  {
   "cell_type": "code",
   "execution_count": 39,
   "metadata": {},
   "outputs": [],
   "source": [
    "import pandas as pd\n",
    "from tqdm import tqdm"
   ]
  },
  {
   "cell_type": "code",
   "execution_count": 40,
   "metadata": {},
   "outputs": [],
   "source": [
    "df = pd.read_pickle(\"../tour_grade_time_series.pickle\")"
   ]
  },
  {
   "cell_type": "code",
   "execution_count": 41,
   "metadata": {},
   "outputs": [],
   "source": [
    "del df[\"start_time\"]"
   ]
  },
  {
   "cell_type": "code",
   "execution_count": 42,
   "metadata": {},
   "outputs": [],
   "source": [
    "df.fillna(\"\", inplace=True)"
   ]
  },
  {
   "cell_type": "code",
   "execution_count": null,
   "metadata": {},
   "outputs": [],
   "source": [
    "df = df[df[\"adult_retail_price\"]!=\"\"]"
   ]
  },
  {
   "cell_type": "code",
   "execution_count": null,
   "metadata": {},
   "outputs": [],
   "source": [
    "week_day_map = {\n",
    "    'M': 0,  # Monday\n",
    "    'T': 1,  # Tuesday\n",
    "    'W': 2,  # Wednesday\n",
    "    'H': 3,  # Thursday\n",
    "    'F': 4,  # Friday\n",
    "    'S': 5,  # Saturday\n",
    "    'U': 6   # Sunday\n",
    "}\n",
    "\n",
    "def generate_dates(row):\n",
    "    \n",
    "    start_date = row['SeasonFrom']\n",
    "    end_date = row['SeasonTo']\n",
    "    week_day = week_day_map[row['week_day']]\n",
    "    \n",
    "    # Generate all dates between start_date and end_date\n",
    "    all_dates = pd.date_range(start=start_date, end=end_date)\n",
    "    \n",
    "    # Filter dates to keep only those that match the week_day\n",
    "    filtered_dates = all_dates[all_dates.weekday == week_day]\n",
    "    \n",
    "    # Create new rows for each filtered date\n",
    "    new_rows = pd.DataFrame({\n",
    "        'ProductCode': row['ProductCode'],\n",
    "        'TourGradeCode': row['TourGradeCode'],\n",
    "        'Date': filtered_dates,\n",
    "        'adult_retail_price': row['adult_retail_price']\n",
    "    })\n",
    "    \n",
    "    return new_rows"
   ]
  },
  {
   "cell_type": "code",
   "execution_count": null,
   "metadata": {},
   "outputs": [
    {
     "name": "stderr",
     "output_type": "stream",
     "text": [
      "  0%|          | 0/463689 [00:00<?, ?it/s]/tmp/ipykernel_446871/3362201808.py:20: FutureWarning: Series.fillna with 'method' is deprecated and will raise in a future version. Use obj.ffill() or obj.bfill() instead.\n",
      "  expanded_df_ordered['adult_retail_price'] = expanded_df_ordered['adult_retail_price'].fillna(method='ffill')\n",
      "/tmp/ipykernel_446871/3362201808.py:21: FutureWarning: Series.fillna with 'method' is deprecated and will raise in a future version. Use obj.ffill() or obj.bfill() instead.\n",
      "  expanded_df_ordered['adult_retail_price'] = expanded_df_ordered['adult_retail_price'].fillna(method='bfill')\n",
      "  0%|          | 0/463689 [00:02<?, ?it/s]\n"
     ]
    },
    {
     "ename": "SystemExit",
     "evalue": "",
     "output_type": "error",
     "traceback": [
      "An exception has occurred, use %tb to see the full traceback.\n",
      "\u001b[0;31mSystemExit\u001b[0m\n"
     ]
    },
    {
     "name": "stderr",
     "output_type": "stream",
     "text": [
      "/home/fabio/Desktop/data-exploration/venv/lib/python3.10/site-packages/IPython/core/interactiveshell.py:3585: UserWarning: To exit: use 'exit', 'quit', or Ctrl-D.\n",
      "  warn(\"To exit: use 'exit', 'quit', or Ctrl-D.\", stacklevel=1)\n"
     ]
    }
   ],
   "source": [
    "final_df = pd.DataFrame()\n",
    "\n",
    "for prd in tqdm(list(set(list(df[\"ProductCode\"])))):\n",
    "\n",
    "    subset = df[df[\"ProductCode\"]==prd]\n",
    "\n",
    "    for tgc in list(set(list(subset[\"TourGradeCode\"]))):\n",
    "\n",
    "        subset_now = subset[subset[\"TourGradeCode\"]==tgc]\n",
    "\n",
    "        # Take mean of prices for changes in the same weekday and period\n",
    "        subset_mean = subset_now.groupby(['ProductCode', 'TourGradeCode', 'SeasonFrom', 'SeasonTo', 'week_day'], as_index=False)['adult_retail_price'].mean()\n",
    "        \n",
    "        expanded_df = pd.concat(subset_mean.apply(generate_dates, axis=1).values, ignore_index=True)\n",
    "        expanded_df_ordered = expanded_df.sort_values(by='Date', ascending=True)\n",
    "\n",
    "        date_range = pd.date_range(start=expanded_df_ordered['Date'].min(), end=expanded_df_ordered['Date'].max())\n",
    "        expanded_df_ordered = expanded_df_ordered.set_index('Date').reindex(date_range).reset_index()\n",
    "\n",
    "        expanded_df_ordered['adult_retail_price'] = expanded_df_ordered['adult_retail_price'].fillna(method='ffill')\n",
    "        expanded_df_ordered['adult_retail_price'] = expanded_df_ordered['adult_retail_price'].fillna(method='bfill')\n",
    "\n",
    "        expanded_df_ordered = expanded_df_ordered.rename(columns={'index': 'Date'})\n",
    "\n",
    "        expanded_df_ordered.to_pickle(f\"../tmp/time_series_{prd}_{tgc}.pickle\")"
   ]
  }
 ],
 "metadata": {
  "kernelspec": {
   "display_name": "venv",
   "language": "python",
   "name": "python3"
  },
  "language_info": {
   "codemirror_mode": {
    "name": "ipython",
    "version": 3
   },
   "file_extension": ".py",
   "mimetype": "text/x-python",
   "name": "python",
   "nbconvert_exporter": "python",
   "pygments_lexer": "ipython3",
   "version": "3.10.12"
  }
 },
 "nbformat": 4,
 "nbformat_minor": 2
}
