{
 "cells": [
  {
   "cell_type": "code",
   "execution_count": 1,
   "metadata": {},
   "outputs": [
    {
     "name": "stderr",
     "output_type": "stream",
     "text": [
      "INFO:root:Successfully connected to MongoDB.\n"
     ]
    }
   ],
   "source": [
    "import gc\n",
    "\n",
    "import dash\n",
    "import pandas as pd\n",
    "import plotly.express as px\n",
    "import yaml\n",
    "from dash import dcc, html\n",
    "from dash.dependencies import Input, Output\n",
    "\n",
    "from mongodb_lib import *\n",
    "\n",
    "config_infra = yaml.load(open(\"../infra-config-pipeline.yaml\"), Loader=yaml.FullLoader)\n",
    "db, fs, client = connect_to_mongodb(config_infra)"
   ]
  },
  {
   "cell_type": "code",
   "execution_count": 3,
   "metadata": {},
   "outputs": [],
   "source": [
    "df_text = read_object(fs, \"product_textual_english_summarized\")\n",
    "df_text = pd.DataFrame(df_text)"
   ]
  },
  {
   "cell_type": "code",
   "execution_count": 34,
   "metadata": {},
   "outputs": [
    {
     "name": "stdout",
     "output_type": "stream",
     "text": [
      "Summarized description: This classic US East Coast tour will bring you to New York, Washington D.C. and Niagara Falls. Visit the White House, United States Capitol, Niagara Falls, Times Square, and many more.\n"
     ]
    }
   ],
   "source": [
    "txt = list(df_text[df_text[\"PRODUCTCODE\"]==\"329999P26\"][\"pdt_product_detail_PRODUCTDESCRIPTION_SUMMARIZED\"])[0]\n",
    "print(f\"Summarized description: {txt}\")"
   ]
  },
  {
   "cell_type": "code",
   "execution_count": null,
   "metadata": {},
   "outputs": [],
   "source": []
  }
 ],
 "metadata": {
  "kernelspec": {
   "display_name": "venv",
   "language": "python",
   "name": "python3"
  },
  "language_info": {
   "codemirror_mode": {
    "name": "ipython",
    "version": 3
   },
   "file_extension": ".py",
   "mimetype": "text/x-python",
   "name": "python",
   "nbconvert_exporter": "python",
   "pygments_lexer": "ipython3",
   "version": "3.10.12"
  }
 },
 "nbformat": 4,
 "nbformat_minor": 2
}
