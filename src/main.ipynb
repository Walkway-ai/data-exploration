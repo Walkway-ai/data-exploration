{
 "cells": [
  {
   "cell_type": "code",
   "execution_count": 1,
   "metadata": {},
   "outputs": [
    {
     "name": "stderr",
     "output_type": "stream",
     "text": [
      "DEBUG:jupyter_black:config: {'line_length': 100, 'target_versions': {<TargetVersion.PY310: 10>}}\n"
     ]
    },
    {
     "data": {
      "application/javascript": "\n            (function() {\n                jb_set_cell(\"def read_bigquery_table(project_id, dataset_id, table_id):\\n\\n    client = bigquery.Client()\\n\\n    table_ref = client.dataset(dataset_id).table(table_id)\\n    table = client.get_table(table_ref)\\n\\n    query = f\\\"SELECT * FROM `{table.project}.{table.dataset_id}.{table.table_id}`\\\"\\n\\n    job_config = bigquery.QueryJobConfig()\\n    job_config.use_query_cache = False\\n\\n    query_job = client.query(query, job_config=job_config)\\n    df = query_job.to_dataframe()\\n\\n    prefix = table_id + \\\"_\\\"\\n\\n    df.columns = [prefix + re.sub(r\\\"[^A-Za-z0-9]+\\\", \\\"\\\", col.upper()) for col in df.columns]\\n    df.rename(columns={prefix + \\\"PRODUCTCODE\\\": \\\"PRODUCTCODE\\\"}, inplace=True)\\n\\n    return df\")\n            })();\n            ",
      "text/plain": [
       "<IPython.core.display.Javascript object>"
      ]
     },
     "metadata": {},
     "output_type": "display_data"
    }
   ],
   "source": [
    "from google.cloud import bigquery\n",
    "import jupyter_black\n",
    "import black\n",
    "import re\n",
    "import pandas as pd\n",
    "import gc\n",
    "from collections import OrderedDict\n",
    "from tqdm import tqdm\n",
    "\n",
    "gc.collect()\n",
    "\n",
    "jupyter_black.load(\n",
    "    lab=False,\n",
    "    line_length=100,\n",
    "    verbosity=\"DEBUG\",\n",
    "    target_version=black.TargetVersion.PY310,\n",
    ")"
   ]
  },
  {
   "cell_type": "code",
   "execution_count": 2,
   "metadata": {},
   "outputs": [],
   "source": [
    "def read_bigquery_table(project_id, dataset_id, table_id):\n",
    "\n",
    "    client = bigquery.Client()\n",
    "\n",
    "    table_ref = client.dataset(dataset_id).table(table_id)\n",
    "    table = client.get_table(table_ref)\n",
    "\n",
    "    query = f\"SELECT * FROM `{table.project}.{table.dataset_id}.{table.table_id}`\"\n",
    "\n",
    "    job_config = bigquery.QueryJobConfig()\n",
    "    job_config.use_query_cache = False\n",
    "\n",
    "    query_job = client.query(query, job_config=job_config)\n",
    "    df = query_job.to_dataframe()\n",
    "\n",
    "    prefix = table_id + \"_\"\n",
    "\n",
    "    df.columns = [prefix + re.sub(r'[^A-Za-z0-9]+', '', col.upper()) for col in df.columns]\n",
    "    df.rename(columns={prefix + \"PRODUCTCODE\": 'PRODUCTCODE'}, inplace=True)\n",
    "\n",
    "    return df"
   ]
  },
  {
   "cell_type": "code",
   "execution_count": 3,
   "metadata": {},
   "outputs": [],
   "source": [
    "def aggregate(df, agg_field):\n",
    "\n",
    "    columns_to_aggregate = [col for col in df.columns if col != agg_field]\n",
    "    agg_dict = {col: list for col in columns_to_aggregate}\n",
    "    df = df.groupby(agg_field).agg(agg_dict).reset_index()\n",
    "\n",
    "    return df"
   ]
  },
  {
   "cell_type": "code",
   "execution_count": 4,
   "metadata": {},
   "outputs": [],
   "source": [
    "def get_ordered_set_dict(df, field):\n",
    "\n",
    "    df[field] = [list(OrderedDict.fromkeys(el).keys()) for el in list(df[field])]\n",
    "\n",
    "    return df"
   ]
  },
  {
   "cell_type": "code",
   "execution_count": 18,
   "metadata": {},
   "outputs": [],
   "source": [
    "# Merge tags_cleaned and pdt_tourgrades\n",
    "\n",
    "tags_cleaned = read_bigquery_table(project_id=\"ww-da-ingestion\", dataset_id=\"v_extract1\", table_id=\"tags_cleaned\")\n",
    "pdt_tourgrades = read_bigquery_table(project_id=\"ww-da-ingestion\", dataset_id=\"v_extract1\", table_id=\"pdt_tourgrades\")\n",
    "\n",
    "product_step_1 = pd.merge(tags_cleaned, pdt_tourgrades, on='PRODUCTCODE', how='outer')\n",
    "product_step_1 = product_step_1.astype(str)\n",
    "product_step_1.replace(\"nan\", \"\", inplace=True)"
   ]
  },
  {
   "cell_type": "code",
   "execution_count": 19,
   "metadata": {},
   "outputs": [],
   "source": [
    "del tags_cleaned\n",
    "del pdt_tourgrades"
   ]
  },
  {
   "cell_type": "code",
   "execution_count": null,
   "metadata": {},
   "outputs": [],
   "source": [
    "# Merge step result and pdt_tags\n",
    "\n",
    "pdt_tags = read_bigquery_table(project_id=\"ww-da-ingestion\", dataset_id=\"v_extract1\", table_id=\"pdt_tags\")\n",
    "pdt_tags = pdt_tags[[\"PRODUCTCODE\", \"pdt_tags_TAGLEVEL\", \"pdt_tags_TAGNAME\"]]\n",
    "\n",
    "product_step_2 = pd.merge(product_step_1, pdt_tags, on='PRODUCTCODE', how='outer')\n",
    "product_step_2 = product_step_2.astype(str)\n",
    "product_step_2.replace(\"nan\", \"\", inplace=True)"
   ]
  },
  {
   "cell_type": "code",
   "execution_count": 24,
   "metadata": {},
   "outputs": [],
   "source": [
    "del product_step_1\n",
    "del pdt_tags"
   ]
  },
  {
   "cell_type": "code",
   "execution_count": 25,
   "metadata": {},
   "outputs": [],
   "source": [
    "# Merge step result and pdt_product_level\n",
    "\n",
    "pdt_product_level = read_bigquery_table(project_id=\"ww-da-ingestion\", dataset_id=\"v_extract1\", table_id=\"pdt_product_level\")\n",
    "\n",
    "product_step_3 = pd.merge(product_step_2, pdt_product_level, on='PRODUCTCODE', how='outer')\n",
    "product_step_3 = product_step_3.astype(str)\n",
    "product_step_3.replace(\"nan\", \"\", inplace=True)"
   ]
  },
  {
   "cell_type": "code",
   "execution_count": 26,
   "metadata": {},
   "outputs": [],
   "source": [
    "del product_step_2\n",
    "del pdt_product_level"
   ]
  },
  {
   "cell_type": "code",
   "execution_count": 28,
   "metadata": {},
   "outputs": [
    {
     "name": "stderr",
     "output_type": "stream",
     "text": [
      "100%|██████████| 56/56 [00:07<00:00,  7.90it/s]\n"
     ]
    }
   ],
   "source": [
    "# Merge step result and pdt_product_detail\n",
    "\n",
    "pdt_product_detail = read_bigquery_table(project_id=\"ww-da-ingestion\", dataset_id=\"v_extract1\", table_id=\"pdt_product_detail\")\n",
    "\n",
    "product_step_3.rename(columns={\"pdt_tourgrades_TOURGRADECODE\": 'TOURGRADECODE'}, inplace=True)\n",
    "pdt_product_detail.rename(columns={\"pdt_product_detail_TOURGRADECODE\": 'TOURGRADECODE'}, inplace=True)\n",
    "\n",
    "product_step_4 = pd.merge(product_step_3, pdt_product_detail, on=['PRODUCTCODE', 'TOURGRADECODE'], how='outer')\n",
    "product_step_4 = product_step_4.astype(str)\n",
    "product_step_4.replace(\"nan\", \"\", inplace=True)\n",
    "\n",
    "product_step_4 = aggregate(product_step_4, \"PRODUCTCODE\")\n",
    "\n",
    "for col in tqdm(product_step_4.columns):\n",
    "\n",
    "   if col != \"PRODUCTCODE\":\n",
    "\n",
    "       product_step_4 = get_ordered_set_dict(product_step_4, col)\n",
    "\n",
    "product_step_4.to_pickle(\"tmp1.pkl\")"
   ]
  },
  {
   "cell_type": "code",
   "execution_count": 29,
   "metadata": {},
   "outputs": [],
   "source": [
    "del product_step_3\n",
    "del pdt_product_detail"
   ]
  },
  {
   "cell_type": "code",
   "execution_count": 30,
   "metadata": {},
   "outputs": [],
   "source": [
    "product_step_4 = pd.read_pickle(\"tmp1.pkl\")"
   ]
  },
  {
   "cell_type": "code",
   "execution_count": 32,
   "metadata": {},
   "outputs": [
    {
     "name": "stderr",
     "output_type": "stream",
     "text": [
      "100%|██████████| 13/13 [00:00<00:00, 41.26it/s]\n"
     ]
    }
   ],
   "source": [
    "# Merge step result and pdt_itinerary\n",
    "\n",
    "pdt_itinerary = read_bigquery_table(project_id=\"ww-da-ingestion\", dataset_id=\"v_extract1\", table_id=\"pdt_itinerary\")\n",
    "pdt_itinerary = aggregate(pdt_itinerary, \"PRODUCTCODE\")\n",
    "\n",
    "for col in tqdm(pdt_itinerary.columns):\n",
    "\n",
    "   if col != \"PRODUCTCODE\":\n",
    "\n",
    "       pdt_itinerary = get_ordered_set_dict(pdt_itinerary, col)\n",
    "\n",
    "product_step_5 = pd.merge(product_step_4, pdt_itinerary, on='PRODUCTCODE', how='outer')\n",
    "product_step_5 = product_step_5.astype(str)\n",
    "product_step_5.replace(\"nan\", \"\", inplace=True)\n",
    "\n",
    "product_step_5.to_pickle(\"tmp2.pkl\")"
   ]
  },
  {
   "cell_type": "code",
   "execution_count": 33,
   "metadata": {},
   "outputs": [],
   "source": [
    "del product_step_4\n",
    "del pdt_itinerary"
   ]
  },
  {
   "cell_type": "code",
   "execution_count": 34,
   "metadata": {},
   "outputs": [],
   "source": [
    "product_step_5 = pd.read_pickle(\"tmp2.pkl\")"
   ]
  },
  {
   "cell_type": "code",
   "execution_count": 35,
   "metadata": {},
   "outputs": [
    {
     "name": "stderr",
     "output_type": "stream",
     "text": [
      "100%|██████████| 5/5 [00:00<00:00, 71.65it/s]\n"
     ]
    }
   ],
   "source": [
    "# Merge step result and pdt_inclexcl_ENG\n",
    "\n",
    "pdt_inclexcl_ENG = read_bigquery_table(project_id=\"ww-da-ingestion\", dataset_id=\"v_extract1\", table_id=\"pdt_inclexcl_ENG\")\n",
    "pdt_inclexcl_ENG = aggregate(pdt_inclexcl_ENG, \"PRODUCTCODE\")\n",
    "\n",
    "for col in tqdm(pdt_inclexcl_ENG.columns):\n",
    "\n",
    "   if col != \"PRODUCTCODE\":\n",
    "\n",
    "       pdt_inclexcl_ENG = get_ordered_set_dict(pdt_inclexcl_ENG, col)\n",
    "\n",
    "product_step_6 = pd.merge(product_step_5, pdt_inclexcl_ENG, on='PRODUCTCODE', how='outer')\n",
    "product_step_6 = product_step_6.astype(str)\n",
    "product_step_6.replace(\"nan\", \"\", inplace=True)\n",
    "\n",
    "product_step_6.to_pickle(\"tmp3.pkl\")"
   ]
  },
  {
   "cell_type": "code",
   "execution_count": 36,
   "metadata": {},
   "outputs": [],
   "source": [
    "del product_step_5\n",
    "del pdt_inclexcl_ENG"
   ]
  },
  {
   "cell_type": "code",
   "execution_count": 37,
   "metadata": {},
   "outputs": [],
   "source": [
    "product_step_6 = pd.read_pickle(\"tmp3.pkl\")"
   ]
  },
  {
   "cell_type": "code",
   "execution_count": 39,
   "metadata": {},
   "outputs": [
    {
     "name": "stderr",
     "output_type": "stream",
     "text": [
      "100%|██████████| 3/3 [00:00<00:00,  7.41it/s]\n"
     ]
    }
   ],
   "source": [
    "# Merge step result and pdt_inclexcl\n",
    "\n",
    "pdt_inclexcl = read_bigquery_table(project_id=\"ww-da-ingestion\", dataset_id=\"v_extract1\", table_id=\"pdt_inclexcl\")\n",
    "pdt_inclexcl = aggregate(pdt_inclexcl, \"PRODUCTCODE\")\n",
    "\n",
    "for col in tqdm(pdt_inclexcl.columns):\n",
    "\n",
    "   if col != \"PRODUCTCODE\":\n",
    "\n",
    "       pdt_inclexcl = get_ordered_set_dict(pdt_inclexcl, col)\n",
    "\n",
    "product_step_7 = pd.merge(product_step_6, pdt_inclexcl, on='PRODUCTCODE', how='outer')\n",
    "product_step_7 = product_step_7.astype(str)\n",
    "product_step_7.replace(\"nan\", \"\", inplace=True)\n",
    "\n",
    "product_step_7.to_pickle(\"tmp4.pkl\")"
   ]
  },
  {
   "cell_type": "code",
   "execution_count": 40,
   "metadata": {},
   "outputs": [],
   "source": [
    "del product_step_6\n",
    "del pdt_inclexcl"
   ]
  },
  {
   "cell_type": "code",
   "execution_count": 41,
   "metadata": {},
   "outputs": [],
   "source": [
    "product_step_7 = pd.read_pickle(\"tmp4.pkl\")"
   ]
  },
  {
   "cell_type": "code",
   "execution_count": 43,
   "metadata": {},
   "outputs": [
    {
     "name": "stderr",
     "output_type": "stream",
     "text": [
      "100%|██████████| 6/6 [00:00<00:00, 12.72it/s]\n"
     ]
    }
   ],
   "source": [
    "# Merge step result and pdt_incexcl\n",
    "\n",
    "pdt_incexcl = read_bigquery_table(project_id=\"ww-da-ingestion\", dataset_id=\"v_extract1\", table_id=\"pdt_incexcl\")\n",
    "pdt_incexcl = aggregate(pdt_incexcl, \"PRODUCTCODE\")\n",
    "\n",
    "for col in tqdm(pdt_incexcl.columns):\n",
    "\n",
    "   if col != \"PRODUCTCODE\":\n",
    "\n",
    "       pdt_incexcl = get_ordered_set_dict(pdt_incexcl, col)\n",
    "\n",
    "product_step_8 = pd.merge(product_step_7, pdt_incexcl, on='PRODUCTCODE', how='outer')\n",
    "product_step_8 = product_step_8.astype(str)\n",
    "product_step_8.replace(\"nan\", \"\", inplace=True)\n",
    "\n",
    "product_step_8.to_pickle(\"tmp5.pkl\")"
   ]
  },
  {
   "cell_type": "code",
   "execution_count": 44,
   "metadata": {},
   "outputs": [],
   "source": [
    "del product_step_7\n",
    "del pdt_incexcl"
   ]
  },
  {
   "cell_type": "code",
   "execution_count": 5,
   "metadata": {},
   "outputs": [],
   "source": [
    "product_step_8 = pd.read_pickle(\"tmp5.pkl\")"
   ]
  },
  {
   "cell_type": "code",
   "execution_count": null,
   "metadata": {},
   "outputs": [],
   "source": [
    "# Merge step result and pdt_capacity\n",
    "\n",
    "pdt_capacity = read_bigquery_table(project_id=\"ww-da-ingestion\", dataset_id=\"v_extract1\", table_id=\"pdt_capacity\")\n",
    "pdt_capacity = aggregate(pdt_capacity, \"PRODUCTCODE\")\n",
    "\n",
    "for col in tqdm(pdt_capacity.columns):\n",
    "\n",
    "   if col != \"PRODUCTCODE\":\n",
    "\n",
    "       pdt_capacity = get_ordered_set_dict(pdt_capacity, col)\n",
    "\n",
    "product_step_9 = pd.merge(product_step_8, pdt_capacity, on='PRODUCTCODE', how='outer')\n",
    "product_step_9 = product_step_9.astype(str)\n",
    "product_step_9.replace(\"nan\", \"\", inplace=True)\n",
    "\n",
    "product_step_9.to_pickle(\"tmp6.pkl\")"
   ]
  }
 ],
 "metadata": {
  "kernelspec": {
   "display_name": "venv",
   "language": "python",
   "name": "python3"
  },
  "language_info": {
   "codemirror_mode": {
    "name": "ipython",
    "version": 3
   },
   "file_extension": ".py",
   "mimetype": "text/x-python",
   "name": "python",
   "nbconvert_exporter": "python",
   "pygments_lexer": "ipython3",
   "version": "3.11.2"
  }
 },
 "nbformat": 4,
 "nbformat_minor": 2
}
