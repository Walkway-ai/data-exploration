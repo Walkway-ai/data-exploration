{
 "cells": [
  {
   "cell_type": "code",
   "execution_count": 3,
   "metadata": {},
   "outputs": [],
   "source": [
    "from google.cloud import bigquery\n",
    "import pandas\n",
    "import matplotlib.pyplot as plt\n",
    "import seaborn as sns"
   ]
  },
  {
   "cell_type": "code",
   "execution_count": 4,
   "metadata": {},
   "outputs": [],
   "source": [
    "def read_bigquery_table(project_id, dataset_id, table_id):\n",
    "\n",
    "    client = bigquery.Client()\n",
    "    table_ref = client.dataset(dataset_id).table(table_id)\n",
    "    table = client.get_table(table_ref)\n",
    "\n",
    "    return client.list_rows(table).to_dataframe()\n",
    "\n",
    "def initial_stats_table(table):\n",
    "\n",
    "    print(\"DataFrame Info:\")\n",
    "    print(table.info())\n",
    "\n",
    "    print(\"Summary Statistics:\")\n",
    "    print(table.describe())\n",
    "\n",
    "    print(\"Missing Values:\")\n",
    "    print(table.isnull().sum())\n",
    "\n",
    "    print(\"Duplicate Rows:\")\n",
    "    print(table.duplicated().sum())\n",
    "\n",
    "    print(\"Unique Values in Categorical Columns:\")\n",
    "    for col in table.select_dtypes(include='object').columns:\n",
    "\n",
    "        print(f\"{col}: {table[col].nunique()} unique values\")\n",
    "\n",
    "        if table[col].nunique() < 10:\n",
    "            \n",
    "            print(table[col].unique())\n",
    "\n",
    "    plt.figure(figsize=(10, 6))\n",
    "    sns.histplot(data=table, x='numerical_column', bins=30, kde=True)\n",
    "    plt.title(\"Distribution of Numerical Column\")\n",
    "    plt.show()\n",
    "\n",
    "    # Visualize relationships between numerical columns\n",
    "    sns.pairplot(table)\n",
    "    plt.title(\"Pairplot of Numerical Columns\")\n",
    "    plt.show()\n",
    "\n",
    "    # Correlation heatmap of numerical columns\n",
    "    plt.figure(figsize=(10, 8))\n",
    "    sns.heatmap(table.corr(), annot=True, cmap='coolwarm', fmt=\".2f\")\n",
    "    plt.title(\"Correlation Heatmap of Numerical Columns\")\n",
    "    plt.show()"
   ]
  },
  {
   "cell_type": "code",
   "execution_count": 5,
   "metadata": {},
   "outputs": [],
   "source": [
    "table = read_bigquery_table(\"ww-da-ingestion\", \"v_extract1\", \"bookings\")"
   ]
  },
  {
   "cell_type": "code",
   "execution_count": null,
   "metadata": {},
   "outputs": [],
   "source": [
    "initial_stats_table(table)"
   ]
  },
  {
   "cell_type": "code",
   "execution_count": null,
   "metadata": {},
   "outputs": [],
   "source": []
  }
 ],
 "metadata": {
  "kernelspec": {
   "display_name": "venv",
   "language": "python",
   "name": "python3"
  },
  "language_info": {
   "codemirror_mode": {
    "name": "ipython",
    "version": 3
   },
   "file_extension": ".py",
   "mimetype": "text/x-python",
   "name": "python",
   "nbconvert_exporter": "python",
   "pygments_lexer": "ipython3",
   "version": "3.11.2"
  }
 },
 "nbformat": 4,
 "nbformat_minor": 2
}
