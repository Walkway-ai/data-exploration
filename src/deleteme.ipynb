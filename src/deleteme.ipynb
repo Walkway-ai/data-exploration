{
 "cells": [
  {
   "cell_type": "code",
   "execution_count": 82,
   "metadata": {},
   "outputs": [],
   "source": [
    "import pandas as pd\n",
    "from collections import Counter\n",
    "import numpy as np"
   ]
  },
  {
   "cell_type": "code",
   "execution_count": 88,
   "metadata": {},
   "outputs": [],
   "source": [
    "df = pd.read_pickle(\"../tmp/product_textual.pickle\")"
   ]
  },
  {
   "cell_type": "code",
   "execution_count": 94,
   "metadata": {},
   "outputs": [
    {
     "name": "stderr",
     "output_type": "stream",
     "text": [
      "Your max_length is set to 1000, but your input_length is only 132. Since this is a summarization task, where outputs shorter than the input are typically wanted, you might consider decreasing max_length manually, e.g. summarizer('...', max_length=66)\n"
     ]
    },
    {
     "name": "stdout",
     "output_type": "stream",
     "text": [
      "[{'summary_text': 'La Cerdanya valley, in the Pyrenees, is one of the largest valleys in Europe . This route through Catalonia will be accompanied by the excellent Mediterranean climate . An excellent opportunity to get to know this region, its people, customs and this environment of great natural and cultural value .'}]\n"
     ]
    }
   ],
   "source": [
    "from transformers import pipeline\n",
    "\n",
    "summarizer = pipeline(\"summarization\", model=\"Falconsai/text_summarization\")\n",
    "\n",
    "ARTICLE = list(df[\"pdt_product_detail_PRODUCTDESCRIPTION\"])[0] + \"The product includes: \" + list(df[\"pdt_inclexcl_ENG_CONTENT\"])[0]\n",
    "print(summarizer(ARTICLE, max_length=1000, min_length=30, do_sample=False))"
   ]
  },
  {
   "cell_type": "code",
   "execution_count": 95,
   "metadata": {},
   "outputs": [
    {
     "data": {
      "text/plain": [
       "'Our adventure starts off in\\xa0La Cerdanya valley, in the Pyrenees, which is one of the largest valleys in Europe. Here we will cross part of Catalonia from\\xa0La Cerdanya to\\xa0Barcelona,\\xa0travelling on secondary roads with beautiful landscapes.\\n\\nThis route through Catalonia will be accompanied by the excellent Mediterranean climate, which is ideal for cycling as it allows riders to enjoy the best sensations while on their bike.\\n\\nAn excellent opportunity to get to know this region, its people, customs and this environment of great natural and cultural value, which also offers great gastronomic options.'"
      ]
     },
     "execution_count": 95,
     "metadata": {},
     "output_type": "execute_result"
    }
   ],
   "source": [
    "ARTICLE"
   ]
  },
  {
   "cell_type": "code",
   "execution_count": 96,
   "metadata": {},
   "outputs": [
    {
     "data": {
      "text/html": [
       "<div>\n",
       "<style scoped>\n",
       "    .dataframe tbody tr th:only-of-type {\n",
       "        vertical-align: middle;\n",
       "    }\n",
       "\n",
       "    .dataframe tbody tr th {\n",
       "        vertical-align: top;\n",
       "    }\n",
       "\n",
       "    .dataframe thead th {\n",
       "        text-align: right;\n",
       "    }\n",
       "</style>\n",
       "<table border=\"1\" class=\"dataframe\">\n",
       "  <thead>\n",
       "    <tr style=\"text-align: right;\">\n",
       "      <th></th>\n",
       "      <th>PRODUCTCODE</th>\n",
       "      <th>pdt_inclexcl_ENG_CONTENT</th>\n",
       "      <th>pdt_product_detail_PRODUCTDESCRIPTION</th>\n",
       "    </tr>\n",
       "  </thead>\n",
       "  <tbody>\n",
       "    <tr>\n",
       "      <th>0</th>\n",
       "      <td>100123P1</td>\n",
       "      <td>nan</td>\n",
       "      <td>Our adventure starts off in La Cerdanya valley...</td>\n",
       "    </tr>\n",
       "    <tr>\n",
       "      <th>1</th>\n",
       "      <td>100123P2</td>\n",
       "      <td>nan</td>\n",
       "      <td>In La Cerdanya, one of the largest valleys in ...</td>\n",
       "    </tr>\n",
       "    <tr>\n",
       "      <th>2</th>\n",
       "      <td>100123P3</td>\n",
       "      <td>nan</td>\n",
       "      <td>We have planned this trip for those who love c...</td>\n",
       "    </tr>\n",
       "    <tr>\n",
       "      <th>3</th>\n",
       "      <td>100123P4</td>\n",
       "      <td>nan</td>\n",
       "      <td>In La Cerdanya, one of the largest valleys in ...</td>\n",
       "    </tr>\n",
       "    <tr>\n",
       "      <th>4</th>\n",
       "      <td>100123P5</td>\n",
       "      <td>nan</td>\n",
       "      <td>In La Cerdanya, one of the largest valleys in ...</td>\n",
       "    </tr>\n",
       "    <tr>\n",
       "      <th>...</th>\n",
       "      <td>...</td>\n",
       "      <td>...</td>\n",
       "      <td>...</td>\n",
       "    </tr>\n",
       "    <tr>\n",
       "      <th>21257</th>\n",
       "      <td>9973P33</td>\n",
       "      <td>nan</td>\n",
       "      <td>Get Ready to Sparkle in Paris: Your New Year'...</td>\n",
       "    </tr>\n",
       "    <tr>\n",
       "      <th>21258</th>\n",
       "      <td>9973P35</td>\n",
       "      <td>VIP Entrance to the Club</td>\n",
       "      <td>Get ready for the ultimate party experience i...</td>\n",
       "    </tr>\n",
       "    <tr>\n",
       "      <th>21259</th>\n",
       "      <td>9973P4</td>\n",
       "      <td>Skip the line. Visit 3/4 bars Clubs ( 4 Venues...</td>\n",
       "      <td>Riviera Bar Crawl Paris presents the ultimate ...</td>\n",
       "    </tr>\n",
       "    <tr>\n",
       "      <th>21260</th>\n",
       "      <td>9974P1</td>\n",
       "      <td>The Ice Bar Experience Admission Ticket . One ...</td>\n",
       "      <td>Experience the first ice bar at the beach in t...</td>\n",
       "    </tr>\n",
       "    <tr>\n",
       "      <th>21261</th>\n",
       "      <td>9974P3</td>\n",
       "      <td>nan</td>\n",
       "      <td>Do you want to surprise your partner or best f...</td>\n",
       "    </tr>\n",
       "  </tbody>\n",
       "</table>\n",
       "<p>21262 rows × 3 columns</p>\n",
       "</div>"
      ],
      "text/plain": [
       "      PRODUCTCODE                           pdt_inclexcl_ENG_CONTENT  \\\n",
       "0        100123P1                                                nan   \n",
       "1        100123P2                                                nan   \n",
       "2        100123P3                                                nan   \n",
       "3        100123P4                                                nan   \n",
       "4        100123P5                                                nan   \n",
       "...           ...                                                ...   \n",
       "21257     9973P33                                                nan   \n",
       "21258     9973P35                           VIP Entrance to the Club   \n",
       "21259      9973P4  Skip the line. Visit 3/4 bars Clubs ( 4 Venues...   \n",
       "21260      9974P1  The Ice Bar Experience Admission Ticket . One ...   \n",
       "21261      9974P3                                                nan   \n",
       "\n",
       "                   pdt_product_detail_PRODUCTDESCRIPTION  \n",
       "0      Our adventure starts off in La Cerdanya valley...  \n",
       "1      In La Cerdanya, one of the largest valleys in ...  \n",
       "2      We have planned this trip for those who love c...  \n",
       "3      In La Cerdanya, one of the largest valleys in ...  \n",
       "4      In La Cerdanya, one of the largest valleys in ...  \n",
       "...                                                  ...  \n",
       "21257   Get Ready to Sparkle in Paris: Your New Year'...  \n",
       "21258   Get ready for the ultimate party experience i...  \n",
       "21259  Riviera Bar Crawl Paris presents the ultimate ...  \n",
       "21260  Experience the first ice bar at the beach in t...  \n",
       "21261  Do you want to surprise your partner or best f...  \n",
       "\n",
       "[21262 rows x 3 columns]"
      ]
     },
     "execution_count": 96,
     "metadata": {},
     "output_type": "execute_result"
    }
   ],
   "source": [
    "df"
   ]
  },
  {
   "cell_type": "code",
   "execution_count": null,
   "metadata": {},
   "outputs": [],
   "source": []
  }
 ],
 "metadata": {
  "kernelspec": {
   "display_name": "venv",
   "language": "python",
   "name": "python3"
  },
  "language_info": {
   "codemirror_mode": {
    "name": "ipython",
    "version": 3
   },
   "file_extension": ".py",
   "mimetype": "text/x-python",
   "name": "python",
   "nbconvert_exporter": "python",
   "pygments_lexer": "ipython3",
   "version": "3.11.2"
  }
 },
 "nbformat": 4,
 "nbformat_minor": 2
}
