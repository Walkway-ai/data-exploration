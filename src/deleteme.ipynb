{
 "cells": [
  {
   "cell_type": "code",
   "execution_count": 1,
   "metadata": {},
   "outputs": [
    {
     "name": "stderr",
     "output_type": "stream",
     "text": [
      "/home/fabio/data-exploration/venv/lib/python3.11/site-packages/tqdm/auto.py:21: TqdmWarning: IProgress not found. Please update jupyter and ipywidgets. See https://ipywidgets.readthedocs.io/en/stable/user_install.html\n",
      "  from .autonotebook import tqdm as notebook_tqdm\n"
     ]
    }
   ],
   "source": [
    "from transformers import AutoModel\n",
    "from numpy.linalg import norm\n",
    "from sentence_transformers import SentenceTransformer\n",
    "from sentence_transformers.util import cos_sim\n",
    "\n",
    "text1 = \"Belleville is home to many of Madrid's most famous artists and musicians. With an art guide, walk the tourist-friendly streets to see murals and other art on the sides of buildings.\"\n",
    "text2 = \"The Orsay Museum is one of Paris’s most popular museums. Enjoy skip-the-line entrance and follow your guide on a tour of the museum's extensive exhibitions. See masterpieces like Monet's ‘Blue Water Lilies,’ Cézanne’S ‘Apples and Oranges’ and Renoir’’\""
   ]
  },
  {
   "cell_type": "code",
   "execution_count": 2,
   "metadata": {},
   "outputs": [
    {
     "name": "stdout",
     "output_type": "stream",
     "text": [
      "tensor([[0.8036]])\n"
     ]
    }
   ],
   "source": [
    "model = AutoModel.from_pretrained('jinaai/jina-embeddings-v2-base-en', trust_remote_code=True)\n",
    "embeddings = model.encode([text1, text2])\n",
    "print(cos_sim(embeddings[0], embeddings[1]))"
   ]
  },
  {
   "cell_type": "code",
   "execution_count": 3,
   "metadata": {},
   "outputs": [
    {
     "name": "stdout",
     "output_type": "stream",
     "text": [
      "tensor([[0.8191]])\n"
     ]
    }
   ],
   "source": [
    "model = SentenceTransformer('thenlper/gte-large')\n",
    "embeddings = model.encode([text1, text2])\n",
    "print(cos_sim(embeddings[0], embeddings[1]))"
   ]
  },
  {
   "cell_type": "code",
   "execution_count": 4,
   "metadata": {},
   "outputs": [
    {
     "data": {
      "text/plain": [
       "(2, 1024)"
      ]
     },
     "execution_count": 4,
     "metadata": {},
     "output_type": "execute_result"
    }
   ],
   "source": [
    "embeddings.shape"
   ]
  },
  {
   "cell_type": "code",
   "execution_count": 1,
   "metadata": {},
   "outputs": [],
   "source": [
    "import pandas as pd\n",
    "combined_embeddings = pd.read_pickle(\"../tmp/product_textual_lang_summarized.pickle\")\n"
   ]
  },
  {
   "cell_type": "code",
   "execution_count": 2,
   "metadata": {},
   "outputs": [
    {
     "data": {
      "text/html": [
       "<div>\n",
       "<style scoped>\n",
       "    .dataframe tbody tr th:only-of-type {\n",
       "        vertical-align: middle;\n",
       "    }\n",
       "\n",
       "    .dataframe tbody tr th {\n",
       "        vertical-align: top;\n",
       "    }\n",
       "\n",
       "    .dataframe thead th {\n",
       "        text-align: right;\n",
       "    }\n",
       "</style>\n",
       "<table border=\"1\" class=\"dataframe\">\n",
       "  <thead>\n",
       "    <tr style=\"text-align: right;\">\n",
       "      <th></th>\n",
       "      <th>PRODUCTCODE</th>\n",
       "      <th>pdt_inclexcl_ENG_CONTENT</th>\n",
       "      <th>pdt_product_detail_PRODUCTDESCRIPTION_translated</th>\n",
       "      <th>pdt_product_detail_PRODUCTDESCRIPTION_SUMMARIZED</th>\n",
       "    </tr>\n",
       "  </thead>\n",
       "  <tbody>\n",
       "    <tr>\n",
       "      <th>0</th>\n",
       "      <td>100123P1</td>\n",
       "      <td></td>\n",
       "      <td>Our adventure starts off in La Cerdanya valley...</td>\n",
       "      <td>This route through Catalonia will be accompani...</td>\n",
       "    </tr>\n",
       "    <tr>\n",
       "      <th>1</th>\n",
       "      <td>100123P2</td>\n",
       "      <td></td>\n",
       "      <td>In La Cerdanya, one of the largest valleys in ...</td>\n",
       "      <td>We offer you a week of active holidays and swi...</td>\n",
       "    </tr>\n",
       "    <tr>\n",
       "      <th>2</th>\n",
       "      <td>100123P3</td>\n",
       "      <td></td>\n",
       "      <td>We have planned this trip for those who love c...</td>\n",
       "      <td>The route runs through La Garrotxa, the famous...</td>\n",
       "    </tr>\n",
       "    <tr>\n",
       "      <th>3</th>\n",
       "      <td>100123P4</td>\n",
       "      <td></td>\n",
       "      <td>In La Cerdanya, one of the largest valleys in ...</td>\n",
       "      <td>We offer you a week of active holidays and swi...</td>\n",
       "    </tr>\n",
       "    <tr>\n",
       "      <th>4</th>\n",
       "      <td>100123P5</td>\n",
       "      <td></td>\n",
       "      <td>In La Cerdanya, one of the largest valleys in ...</td>\n",
       "      <td>We offer you a week of active holidays and swi...</td>\n",
       "    </tr>\n",
       "    <tr>\n",
       "      <th>...</th>\n",
       "      <td>...</td>\n",
       "      <td>...</td>\n",
       "      <td>...</td>\n",
       "      <td>...</td>\n",
       "    </tr>\n",
       "    <tr>\n",
       "      <th>21257</th>\n",
       "      <td>9973P33</td>\n",
       "      <td></td>\n",
       "      <td>Get Ready to Sparkle in Paris: Your New Year'...</td>\n",
       "      <td>Paris NYE Bar Crawl is the ultimate way to wel...</td>\n",
       "    </tr>\n",
       "    <tr>\n",
       "      <th>21258</th>\n",
       "      <td>9973P35</td>\n",
       "      <td>VIP Entrance to the Club</td>\n",
       "      <td>Get ready for the ultimate party experience i...</td>\n",
       "      <td>Party Bus Paris France will take you on a nigh...</td>\n",
       "    </tr>\n",
       "    <tr>\n",
       "      <th>21259</th>\n",
       "      <td>9973P4</td>\n",
       "      <td>Skip the line; Visit 3/4 bars Clubs ( 4 Venues...</td>\n",
       "      <td>Riviera Bar Crawl Paris presents the ultimate ...</td>\n",
       "      <td>The Paris pub crawl Latin Quarter is great fun...</td>\n",
       "    </tr>\n",
       "    <tr>\n",
       "      <th>21260</th>\n",
       "      <td>9974P1</td>\n",
       "      <td>The Ice Bar Experience Admission Ticket ; One ...</td>\n",
       "      <td>Experience the first ice bar at the beach in t...</td>\n",
       "      <td>Experience the first ice bar at the beach in t...</td>\n",
       "    </tr>\n",
       "    <tr>\n",
       "      <th>21261</th>\n",
       "      <td>9974P3</td>\n",
       "      <td></td>\n",
       "      <td>Do you want to surprise your partner or best f...</td>\n",
       "      <td>The ROMANTIC PACK includes: 2 Ice Bar Experien...</td>\n",
       "    </tr>\n",
       "  </tbody>\n",
       "</table>\n",
       "<p>21262 rows × 4 columns</p>\n",
       "</div>"
      ],
      "text/plain": [
       "      PRODUCTCODE                           pdt_inclexcl_ENG_CONTENT  \\\n",
       "0        100123P1                                                      \n",
       "1        100123P2                                                      \n",
       "2        100123P3                                                      \n",
       "3        100123P4                                                      \n",
       "4        100123P5                                                      \n",
       "...           ...                                                ...   \n",
       "21257     9973P33                                                      \n",
       "21258     9973P35                           VIP Entrance to the Club   \n",
       "21259      9973P4  Skip the line; Visit 3/4 bars Clubs ( 4 Venues...   \n",
       "21260      9974P1  The Ice Bar Experience Admission Ticket ; One ...   \n",
       "21261      9974P3                                                      \n",
       "\n",
       "        pdt_product_detail_PRODUCTDESCRIPTION_translated  \\\n",
       "0      Our adventure starts off in La Cerdanya valley...   \n",
       "1      In La Cerdanya, one of the largest valleys in ...   \n",
       "2      We have planned this trip for those who love c...   \n",
       "3      In La Cerdanya, one of the largest valleys in ...   \n",
       "4      In La Cerdanya, one of the largest valleys in ...   \n",
       "...                                                  ...   \n",
       "21257   Get Ready to Sparkle in Paris: Your New Year'...   \n",
       "21258   Get ready for the ultimate party experience i...   \n",
       "21259  Riviera Bar Crawl Paris presents the ultimate ...   \n",
       "21260  Experience the first ice bar at the beach in t...   \n",
       "21261  Do you want to surprise your partner or best f...   \n",
       "\n",
       "        pdt_product_detail_PRODUCTDESCRIPTION_SUMMARIZED  \n",
       "0      This route through Catalonia will be accompani...  \n",
       "1      We offer you a week of active holidays and swi...  \n",
       "2      The route runs through La Garrotxa, the famous...  \n",
       "3      We offer you a week of active holidays and swi...  \n",
       "4      We offer you a week of active holidays and swi...  \n",
       "...                                                  ...  \n",
       "21257  Paris NYE Bar Crawl is the ultimate way to wel...  \n",
       "21258  Party Bus Paris France will take you on a nigh...  \n",
       "21259  The Paris pub crawl Latin Quarter is great fun...  \n",
       "21260  Experience the first ice bar at the beach in t...  \n",
       "21261  The ROMANTIC PACK includes: 2 Ice Bar Experien...  \n",
       "\n",
       "[21262 rows x 4 columns]"
      ]
     },
     "execution_count": 2,
     "metadata": {},
     "output_type": "execute_result"
    }
   ],
   "source": [
    "combined_embeddings"
   ]
  },
  {
   "cell_type": "code",
   "execution_count": null,
   "metadata": {},
   "outputs": [],
   "source": []
  },
  {
   "cell_type": "code",
   "execution_count": null,
   "metadata": {},
   "outputs": [],
   "source": []
  },
  {
   "cell_type": "code",
   "execution_count": null,
   "metadata": {},
   "outputs": [],
   "source": []
  },
  {
   "cell_type": "code",
   "execution_count": 1,
   "metadata": {},
   "outputs": [],
   "source": [
    "#!/usr/bin/env python\n",
    "# coding: utf-8\n",
    "\n",
    "import gc\n",
    "\n",
    "import pandas as pd\n",
    "from deep_translator import GoogleTranslator\n",
    "from langdetect import detect\n",
    "from tqdm import tqdm\n",
    "\n",
    "gc.collect()\n",
    "\n",
    "\n",
    "def detect_language(text):\n",
    "    try:\n",
    "        return detect(str(text))\n",
    "    except Exception:\n",
    "        return \"\"\n",
    "\n",
    "\n",
    "def translate_text(text):\n",
    "    try:\n",
    "        return GoogleTranslator(source=\"auto\", target=\"en\").translate(text)\n",
    "    except Exception as e:\n",
    "        print(f\"Translation error: {e}\")\n",
    "        return text\n",
    "\n"
   ]
  },
  {
   "cell_type": "code",
   "execution_count": 3,
   "metadata": {},
   "outputs": [],
   "source": [
    "df = pd.read_pickle(\"../tmp/product_textual.pickle\")"
   ]
  },
  {
   "cell_type": "code",
   "execution_count": 4,
   "metadata": {},
   "outputs": [
    {
     "name": "stderr",
     "output_type": "stream",
     "text": [
      "100%|██████████| 21261/21261 [00:41<00:00, 517.56it/s] \n"
     ]
    }
   ],
   "source": [
    "df[\"pdt_inclexcl_ENG_CONTENT_lang\"] = [\n",
    "    detect_language(el) for el in tqdm(df[\"pdt_inclexcl_ENG_CONTENT\"])\n",
    "]"
   ]
  },
  {
   "cell_type": "code",
   "execution_count": 7,
   "metadata": {},
   "outputs": [],
   "source": [
    "df[~df[\"pdt_inclexcl_ENG_CONTENT_lang\"].isin([\"en\", \"\"])].to_csv(\"inclexcl_not_eng.csv\")"
   ]
  },
  {
   "cell_type": "code",
   "execution_count": null,
   "metadata": {},
   "outputs": [],
   "source": []
  }
 ],
 "metadata": {
  "kernelspec": {
   "display_name": "venv",
   "language": "python",
   "name": "python3"
  },
  "language_info": {
   "codemirror_mode": {
    "name": "ipython",
    "version": 3
   },
   "file_extension": ".py",
   "mimetype": "text/x-python",
   "name": "python",
   "nbconvert_exporter": "python",
   "pygments_lexer": "ipython3",
   "version": "3.11.2"
  }
 },
 "nbformat": 4,
 "nbformat_minor": 2
}
