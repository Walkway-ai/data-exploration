{
 "cells": [
  {
   "cell_type": "code",
   "execution_count": 1,
   "metadata": {},
   "outputs": [
    {
     "name": "stderr",
     "output_type": "stream",
     "text": [
      "/home/fabio/data-exploration/venv/lib/python3.11/site-packages/tqdm/auto.py:21: TqdmWarning: IProgress not found. Please update jupyter and ipywidgets. See https://ipywidgets.readthedocs.io/en/stable/user_install.html\n",
      "  from .autonotebook import tqdm as notebook_tqdm\n"
     ]
    }
   ],
   "source": [
    "from transformers import AutoModel\n",
    "from numpy.linalg import norm\n",
    "from sentence_transformers import SentenceTransformer\n",
    "from sentence_transformers.util import cos_sim\n",
    "\n",
    "text1 = \"Belleville is home to many of Madrid's most famous artists and musicians. With an art guide, walk the tourist-friendly streets to see murals and other art on the sides of buildings.\"\n",
    "text2 = \"The Orsay Museum is one of Paris’s most popular museums. Enjoy skip-the-line entrance and follow your guide on a tour of the museum's extensive exhibitions. See masterpieces like Monet's ‘Blue Water Lilies,’ Cézanne’S ‘Apples and Oranges’ and Renoir’’\""
   ]
  },
  {
   "cell_type": "code",
   "execution_count": 2,
   "metadata": {},
   "outputs": [
    {
     "name": "stdout",
     "output_type": "stream",
     "text": [
      "tensor([[0.8036]])\n"
     ]
    }
   ],
   "source": [
    "model = AutoModel.from_pretrained('jinaai/jina-embeddings-v2-base-en', trust_remote_code=True)\n",
    "embeddings = model.encode([text1, text2])\n",
    "print(cos_sim(embeddings[0], embeddings[1]))"
   ]
  },
  {
   "cell_type": "code",
   "execution_count": 3,
   "metadata": {},
   "outputs": [
    {
     "name": "stdout",
     "output_type": "stream",
     "text": [
      "tensor([[0.8191]])\n"
     ]
    }
   ],
   "source": [
    "model = SentenceTransformer('thenlper/gte-large')\n",
    "embeddings = model.encode([text1, text2])\n",
    "print(cos_sim(embeddings[0], embeddings[1]))"
   ]
  },
  {
   "cell_type": "code",
   "execution_count": 4,
   "metadata": {},
   "outputs": [
    {
     "data": {
      "text/plain": [
       "(2, 1024)"
      ]
     },
     "execution_count": 4,
     "metadata": {},
     "output_type": "execute_result"
    }
   ],
   "source": [
    "embeddings.shape"
   ]
  },
  {
   "cell_type": "code",
   "execution_count": 8,
   "metadata": {},
   "outputs": [],
   "source": [
    "import pandas as pd\n",
    "df = pd.read_pickle(\"../tmp/product_textual_lang_summarized_intermediate.pickle\")\n"
   ]
  },
  {
   "cell_type": "code",
   "execution_count": 9,
   "metadata": {},
   "outputs": [
    {
     "data": {
      "text/html": [
       "<div>\n",
       "<style scoped>\n",
       "    .dataframe tbody tr th:only-of-type {\n",
       "        vertical-align: middle;\n",
       "    }\n",
       "\n",
       "    .dataframe tbody tr th {\n",
       "        vertical-align: top;\n",
       "    }\n",
       "\n",
       "    .dataframe thead th {\n",
       "        text-align: right;\n",
       "    }\n",
       "</style>\n",
       "<table border=\"1\" class=\"dataframe\">\n",
       "  <thead>\n",
       "    <tr style=\"text-align: right;\">\n",
       "      <th></th>\n",
       "      <th>PRODUCTCODE</th>\n",
       "      <th>pdt_inclexcl_ENG_CONTENT</th>\n",
       "      <th>pdt_product_detail_PRODUCTDESCRIPTION_translated</th>\n",
       "      <th>pdt_product_detail_PRODUCTDESCRIPTION_SUMMARIZED</th>\n",
       "    </tr>\n",
       "  </thead>\n",
       "  <tbody>\n",
       "    <tr>\n",
       "      <th>0</th>\n",
       "      <td>100123P1</td>\n",
       "      <td></td>\n",
       "      <td>Our adventure starts off in La Cerdanya valley...</td>\n",
       "      <td>This route through Catalonia will be accompani...</td>\n",
       "    </tr>\n",
       "    <tr>\n",
       "      <th>1</th>\n",
       "      <td>100123P2</td>\n",
       "      <td></td>\n",
       "      <td>In La Cerdanya, one of the largest valleys in ...</td>\n",
       "      <td>We offer you a week of active holidays and swi...</td>\n",
       "    </tr>\n",
       "    <tr>\n",
       "      <th>2</th>\n",
       "      <td>100123P3</td>\n",
       "      <td></td>\n",
       "      <td>We have planned this trip for those who love c...</td>\n",
       "      <td>The route runs through La Garrotxa, the famous...</td>\n",
       "    </tr>\n",
       "    <tr>\n",
       "      <th>3</th>\n",
       "      <td>100123P4</td>\n",
       "      <td></td>\n",
       "      <td>In La Cerdanya, one of the largest valleys in ...</td>\n",
       "      <td>We offer you a week of active holidays and swi...</td>\n",
       "    </tr>\n",
       "    <tr>\n",
       "      <th>4</th>\n",
       "      <td>100123P5</td>\n",
       "      <td></td>\n",
       "      <td>In La Cerdanya, one of the largest valleys in ...</td>\n",
       "      <td>We offer you a week of active holidays and swi...</td>\n",
       "    </tr>\n",
       "    <tr>\n",
       "      <th>...</th>\n",
       "      <td>...</td>\n",
       "      <td>...</td>\n",
       "      <td>...</td>\n",
       "      <td>...</td>\n",
       "    </tr>\n",
       "    <tr>\n",
       "      <th>2945</th>\n",
       "      <td>13405P1</td>\n",
       "      <td>Time and date Entry Ticket; Professional Guide...</td>\n",
       "      <td>By booking this 2-hour privately guided tour o...</td>\n",
       "      <td>The largest museum in the world extends for 70...</td>\n",
       "    </tr>\n",
       "    <tr>\n",
       "      <th>2946</th>\n",
       "      <td>13405P10</td>\n",
       "      <td>Private tour; Food and drinks; Professional gu...</td>\n",
       "      <td>Discover the secrets of Père Lachaise cemetery...</td>\n",
       "      <td>Discover the secrets of Père Lachaise cemetery...</td>\n",
       "    </tr>\n",
       "    <tr>\n",
       "      <th>2947</th>\n",
       "      <td>13405P11</td>\n",
       "      <td>Professional private guide; Skip-the-line entr...</td>\n",
       "      <td>See the contemporary art of the Centre Pompido...</td>\n",
       "      <td>2-hour tour includes insight from a private gu...</td>\n",
       "    </tr>\n",
       "    <tr>\n",
       "      <th>2948</th>\n",
       "      <td>13405P12</td>\n",
       "      <td></td>\n",
       "      <td>On a privately guided tour of the Louvre's Egy...</td>\n",
       "      <td>Learn about the secrets and culture of Ancient...</td>\n",
       "    </tr>\n",
       "    <tr>\n",
       "      <th>2949</th>\n",
       "      <td>13405P13</td>\n",
       "      <td></td>\n",
       "      <td>Discover the backbone of Parisian history on a...</td>\n",
       "      <td>Discover the backbone of Parisian history on a...</td>\n",
       "    </tr>\n",
       "  </tbody>\n",
       "</table>\n",
       "<p>2950 rows × 4 columns</p>\n",
       "</div>"
      ],
      "text/plain": [
       "     PRODUCTCODE                           pdt_inclexcl_ENG_CONTENT  \\\n",
       "0       100123P1                                                      \n",
       "1       100123P2                                                      \n",
       "2       100123P3                                                      \n",
       "3       100123P4                                                      \n",
       "4       100123P5                                                      \n",
       "...          ...                                                ...   \n",
       "2945     13405P1  Time and date Entry Ticket; Professional Guide...   \n",
       "2946    13405P10  Private tour; Food and drinks; Professional gu...   \n",
       "2947    13405P11  Professional private guide; Skip-the-line entr...   \n",
       "2948    13405P12                                                      \n",
       "2949    13405P13                                                      \n",
       "\n",
       "       pdt_product_detail_PRODUCTDESCRIPTION_translated  \\\n",
       "0     Our adventure starts off in La Cerdanya valley...   \n",
       "1     In La Cerdanya, one of the largest valleys in ...   \n",
       "2     We have planned this trip for those who love c...   \n",
       "3     In La Cerdanya, one of the largest valleys in ...   \n",
       "4     In La Cerdanya, one of the largest valleys in ...   \n",
       "...                                                 ...   \n",
       "2945  By booking this 2-hour privately guided tour o...   \n",
       "2946  Discover the secrets of Père Lachaise cemetery...   \n",
       "2947  See the contemporary art of the Centre Pompido...   \n",
       "2948  On a privately guided tour of the Louvre's Egy...   \n",
       "2949  Discover the backbone of Parisian history on a...   \n",
       "\n",
       "       pdt_product_detail_PRODUCTDESCRIPTION_SUMMARIZED  \n",
       "0     This route through Catalonia will be accompani...  \n",
       "1     We offer you a week of active holidays and swi...  \n",
       "2     The route runs through La Garrotxa, the famous...  \n",
       "3     We offer you a week of active holidays and swi...  \n",
       "4     We offer you a week of active holidays and swi...  \n",
       "...                                                 ...  \n",
       "2945  The largest museum in the world extends for 70...  \n",
       "2946  Discover the secrets of Père Lachaise cemetery...  \n",
       "2947  2-hour tour includes insight from a private gu...  \n",
       "2948  Learn about the secrets and culture of Ancient...  \n",
       "2949  Discover the backbone of Parisian history on a...  \n",
       "\n",
       "[2950 rows x 4 columns]"
      ]
     },
     "execution_count": 9,
     "metadata": {},
     "output_type": "execute_result"
    }
   ],
   "source": [
    "df"
   ]
  },
  {
   "cell_type": "code",
   "execution_count": null,
   "metadata": {},
   "outputs": [],
   "source": []
  }
 ],
 "metadata": {
  "kernelspec": {
   "display_name": "venv",
   "language": "python",
   "name": "python3"
  },
  "language_info": {
   "codemirror_mode": {
    "name": "ipython",
    "version": 3
   },
   "file_extension": ".py",
   "mimetype": "text/x-python",
   "name": "python",
   "nbconvert_exporter": "python",
   "pygments_lexer": "ipython3",
   "version": "3.11.2"
  }
 },
 "nbformat": 4,
 "nbformat_minor": 2
}
