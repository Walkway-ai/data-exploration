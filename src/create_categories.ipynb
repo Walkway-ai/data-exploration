{
 "cells": [
  {
   "cell_type": "code",
   "execution_count": 21,
   "id": "8131118a",
   "metadata": {},
   "outputs": [],
   "source": [
    "from mongodb_lib import *\n",
    "import yaml\n",
    "import pandas as pd\n",
    "from collections import defaultdict\n",
    "from openai_handlers import *\n",
    "import re\n",
    "import ast"
   ]
  },
  {
   "cell_type": "code",
   "execution_count": 22,
   "id": "634cdb8a",
   "metadata": {},
   "outputs": [
    {
     "name": "stderr",
     "output_type": "stream",
     "text": [
      "INFO:root:Successfully connected to MongoDB.\n"
     ]
    }
   ],
   "source": [
    "config_infra = yaml.load(open(\"../infra-config-pipeline.yaml\"), Loader=yaml.FullLoader)\n",
    "db, fs, client = connect_to_mongodb(config_infra)"
   ]
  },
  {
   "cell_type": "code",
   "execution_count": 72,
   "id": "311e000d",
   "metadata": {},
   "outputs": [],
   "source": [
    "# Import taxonomy\n",
    "\n",
    "taxonomy = pd.read_excel(\"../Categories.xlsx\")\n",
    "taxonomy = taxonomy[[\"Sub-category\", \"Description & Keywords.1\"]]\n",
    "\n",
    "taxonomy_json = defaultdict(lambda: defaultdict(list))\n",
    "\n",
    "list_sub_categories = list()\n",
    "description2id = {}\n",
    "\n",
    "for key, value in zip(taxonomy[\"Sub-category\"], taxonomy[\"Description & Keywords.1\"]):\n",
    "\n",
    "    entries = value.split(\"\\n\")\n",
    "    assert len(entries) == 2\n",
    "\n",
    "    k = entries[0].replace(\"- Description: \",\"\")\n",
    "\n",
    "    list_sub_categories.append(k)\n",
    "    description2id[k] = key"
   ]
  },
  {
   "cell_type": "code",
   "execution_count": 75,
   "id": "c2428366",
   "metadata": {},
   "outputs": [],
   "source": [
    "data = read_object(fs, \"product_textual_lang_summarized\")\n",
    "data = pd.DataFrame(data)\n",
    "data.fillna(\"\", inplace=True)\n",
    "data = data[[\"pdt_product_detail_PRODUCTDESCRIPTION_SUMMARIZED\"]]\n",
    "data.columns = [\"description\"]\n",
    "data = data.sample(frac=1).reset_index(drop=True)"
   ]
  },
  {
   "cell_type": "code",
   "execution_count": 76,
   "id": "59693d38",
   "metadata": {},
   "outputs": [],
   "source": [
    "#apikey=\"sk-proj-CXQXeS2YM9i9oNBJvKvcT3BlbkFJ9nzPvAG7HhK9YRGVco6A\""
   ]
  },
  {
   "cell_type": "code",
   "execution_count": 31,
   "id": "bd41b207",
   "metadata": {},
   "outputs": [
    {
     "name": "stderr",
     "output_type": "stream",
     "text": [
      "INFO:httpx:HTTP Request: POST https://api.openai.com/v1/chat/completions \"HTTP/1.1 200 OK\"\n"
     ]
    },
    {
     "name": "stdout",
     "output_type": "stream",
     "text": [
      "Yes, I'm ready! Please provide me with the Python list of texts that you'd like me to classify.\n"
     ]
    }
   ],
   "source": [
    "conversation_history = [\n",
    "    {\"role\": \"system\", \"content\": \"Hello! How can I assist you today?\"}\n",
    "]\n",
    "\n",
    "prompt = (\n",
    "    \"You are a multi-label classifier tasked with categorizing texts into one or more categories. \"\n",
    "    \"In the next prompts, I will provide you with a Python list of texts, and you should return a Python list of lists \"\n",
    "    \"with applicable labels for each text. If no labels apply to a text, return an empty list ([]).\\n\\n\"\n",
    "    \"Example: If a text relates to history and archaeology, return ['1.1.2: History Museums', '1.2.4: Archaeology Tours'] for that text.\\n\\n\"\n",
    "    \"Return a Python list where each element corresponds to the labels for the texts provided, in respective order.\\n\\n\"\n",
    "    \"Provide your response as a list of lists.\\n\\n\"\n",
    "    \"Example input format: [['Text 1'], ['Text 2'], ['Text 3'], ['Text 4']]\\n\\n\"\n",
    "    \"Example output format: [['1.1.2: History Museums'], ['1.2.4: Archaeology Tours'], [], ['2.5.2: Wine Festivals', '2.1.2: Market Tours']]\\n\\n\"\n",
    "    \"\"\n",
    "    f\"Here are the possible labels:\\n{taxonomy}\\n\\n\"\n",
    "    \"Are you ready to begin?\"\n",
    ")\n",
    "\n",
    "result = query_gpt_with_history(apikey, prompt, conversation_history)\n",
    "result = result.choices[0].message.content\n",
    "conversation_history.append({\"role\": \"user\", \"content\": prompt})\n",
    "conversation_history.append({\"role\": \"system\", \"content\": result})\n",
    "print(result)"
   ]
  },
  {
   "cell_type": "code",
   "execution_count": 62,
   "id": "1a748c37",
   "metadata": {},
   "outputs": [
    {
     "name": "stderr",
     "output_type": "stream",
     "text": [
      "INFO:httpx:HTTP Request: POST https://api.openai.com/v1/chat/completions \"HTTP/1.1 200 OK\"\n"
     ]
    }
   ],
   "source": [
    "texts = [data['description'].tolist()[0]]\n",
    "result = query_gpt_with_history(apikey, str(texts), conversation_history)\n",
    "categories_string = re.findall(r\"\\[\\[.*?\\]\\]\", result.choices[0].message.content, re.DOTALL)[0]\n",
    "result = ast.literal_eval(categories_string)\n",
    "\n",
    "if len(result) != len(texts):\n",
    "    \n",
    "    print(f\"Warning: Expected {len(texts)} results but got {len(result)}.\")"
   ]
  },
  {
   "cell_type": "code",
   "execution_count": 51,
   "id": "35452e7a",
   "metadata": {},
   "outputs": [
    {
     "data": {
      "text/plain": [
       "[['1.1.2: History Museums', '1.6.1: Literary, Art & Music Tours'],\n",
       " ['1.2.1: City Walking Tours']]"
      ]
     },
     "execution_count": 51,
     "metadata": {},
     "output_type": "execute_result"
    }
   ],
   "source": [
    "result"
   ]
  },
  {
   "cell_type": "code",
   "execution_count": 52,
   "id": "19be69a1",
   "metadata": {},
   "outputs": [
    {
     "data": {
      "text/plain": [
       "['130 works to view. different countries: England, France, the United States and Palestine. 3 floors to see containing different countries.    130 works to see. Different countries: France, England, the U.S., Palestine.',\n",
       " '2-hour tour of the city by coach, with live commentary from an English-speaking guide. Some sights include Place de l’Opéra, the Louvre Museum, the Eiffel Tower, Notre Dame Cathedral, the Arc de Triomphe and more.']"
      ]
     },
     "execution_count": 52,
     "metadata": {},
     "output_type": "execute_result"
    }
   ],
   "source": [
    "texts"
   ]
  },
  {
   "cell_type": "code",
   "execution_count": 63,
   "id": "d634c5e4",
   "metadata": {},
   "outputs": [
    {
     "data": {
      "text/plain": [
       "[['1.1.2: History Museums', '1.1.3: Classical Museum', '1.4.3: Performances']]"
      ]
     },
     "execution_count": 63,
     "metadata": {},
     "output_type": "execute_result"
    }
   ],
   "source": [
    "result"
   ]
  },
  {
   "cell_type": "code",
   "execution_count": 64,
   "id": "bf82f685",
   "metadata": {},
   "outputs": [
    {
     "data": {
      "text/plain": [
       "['130 works to view. different countries: England, France, the United States and Palestine. 3 floors to see containing different countries.    130 works to see. Different countries: France, England, the U.S., Palestine.']"
      ]
     },
     "execution_count": 64,
     "metadata": {},
     "output_type": "execute_result"
    }
   ],
   "source": [
    "texts"
   ]
  },
  {
   "cell_type": "code",
   "execution_count": null,
   "id": "e26249a1",
   "metadata": {},
   "outputs": [],
   "source": []
  }
 ],
 "metadata": {
  "kernelspec": {
   "display_name": "venv",
   "language": "python",
   "name": "python3"
  },
  "language_info": {
   "codemirror_mode": {
    "name": "ipython",
    "version": 3
   },
   "file_extension": ".py",
   "mimetype": "text/x-python",
   "name": "python",
   "nbconvert_exporter": "python",
   "pygments_lexer": "ipython3",
   "version": "3.11.2"
  }
 },
 "nbformat": 4,
 "nbformat_minor": 5
}
