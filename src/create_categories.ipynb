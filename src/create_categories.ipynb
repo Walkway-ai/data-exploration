{
 "cells": [
  {
   "cell_type": "code",
   "execution_count": 104,
   "id": "8131118a",
   "metadata": {},
   "outputs": [],
   "source": [
    "from mongodb_lib import *\n",
    "import yaml\n",
    "import pandas as pd\n",
    "from collections import defaultdict\n",
    "from openai_handlers import *\n",
    "import re\n",
    "from tqdm import tqdm\n",
    "import os\n",
    "import pickle\n",
    "import ast\n",
    "from transformers import pipeline"
   ]
  },
  {
   "cell_type": "code",
   "execution_count": 105,
   "id": "634cdb8a",
   "metadata": {},
   "outputs": [
    {
     "name": "stderr",
     "output_type": "stream",
     "text": [
      "INFO:root:Successfully connected to MongoDB.\n"
     ]
    }
   ],
   "source": [
    "config_infra = yaml.load(open(\"../infra-config-pipeline.yaml\"), Loader=yaml.FullLoader)\n",
    "db, fs, client = connect_to_mongodb(config_infra)"
   ]
  },
  {
   "cell_type": "code",
   "execution_count": 106,
   "id": "34f781c6",
   "metadata": {},
   "outputs": [
    {
     "name": "stderr",
     "output_type": "stream",
     "text": [
      "/tmp/ipykernel_869666/3595487518.py:6: SettingWithCopyWarning: \n",
      "A value is trying to be set on a copy of a slice from a DataFrame\n",
      "\n",
      "See the caveats in the documentation: https://pandas.pydata.org/pandas-docs/stable/user_guide/indexing.html#returning-a-view-versus-a-copy\n",
      "  df_categories.drop_duplicates(inplace=True)\n"
     ]
    }
   ],
   "source": [
    "# Import taxonomy\n",
    "\n",
    "taxonomy = pd.read_excel(\"../Categories.xlsx\")\n",
    "\n",
    "df_categories = taxonomy[[\"Category\", \"Description & Keywords\"]]\n",
    "df_categories.drop_duplicates(inplace=True)\n",
    "categories = list(df_categories[\"Category\"])\n",
    "categories = [el.split(\": \")[1] for el in categories]\n",
    "categories_descriptions = list(df_categories[\"Description & Keywords\"])\n",
    "categories_descriptions = [el.split(\"\\n\")[0].replace(\"- Description: \", \"\") for el in categories_descriptions]\n",
    "full_labels = [x.lower() + ' and it mentions ' + y.lower() for x, y in zip(categories, categories_descriptions)]\n",
    "\n",
    "fulllabels2cat = dict(zip(full_labels, categories))"
   ]
  },
  {
   "cell_type": "code",
   "execution_count": 107,
   "id": "c2428366",
   "metadata": {},
   "outputs": [],
   "source": [
    "data = read_object(fs, \"product_textual_lang_summarized\")\n",
    "data = pd.DataFrame(data)\n",
    "data.fillna(\"\", inplace=True)\n",
    "\n",
    "texts = data[\"pdt_product_detail_PRODUCTDESCRIPTION_SUMMARIZED\"].tolist()\n",
    "product_ids = data[\"PRODUCTCODE\"].tolist()"
   ]
  },
  {
   "cell_type": "code",
   "execution_count": 111,
   "id": "50273a18",
   "metadata": {},
   "outputs": [
    {
     "name": "stderr",
     "output_type": "stream",
     "text": [
      "  0%|          | 1/21262 [00:23<138:11:50, 23.40s/it]"
     ]
    },
    {
     "name": "stdout",
     "output_type": "stream",
     "text": [
      "This is a tour description: This route through Catalonia will be accompanied by the excellent Mediterranean climate. An excellent opportunity to get to know this region, its people, customs and this environment of great natural and cultural value. []\n"
     ]
    }
   ],
   "source": [
    "zeroshot_classifier = pipeline(\"zero-shot-classification\", model=\"MoritzLaurer/bge-m3-zeroshot-v2.0\")\n",
    "\n",
    "# Iterate through texts and product_ids\n",
    "for t, p in tqdm(zip(texts, product_ids), total=len(texts)):\n",
    "\n",
    "    filename = f\"../tmp/filtered_labels_{p}.pkl\"\n",
    "\n",
    "    # Check if the file already exists\n",
    "    if not os.path.exists(filename):\n",
    "\n",
    "        context = \"This is a tour description: \"\n",
    "        text = context + t\n",
    "        hypothesis_template = \"A possible category for this tour description is {}\"\n",
    "\n",
    "        # Perform zero-shot classification\n",
    "        output = zeroshot_classifier(text, full_labels, hypothesis_template=hypothesis_template, multi_label=True)\n",
    "        filtered_labels = [label for label, score in zip(output['labels'], output['scores']) if score > 0.85]\n",
    "        filtered_labels = [fulllabels2cat[el] for el in filtered_labels]\n",
    "\n",
    "        print(text, filtered_labels)\n",
    "\n",
    "        with open(filename, 'wb') as f:\n",
    "\n",
    "            pickle.dump(filtered_labels, f)"
   ]
  }
 ],
 "metadata": {
  "kernelspec": {
   "display_name": "venv",
   "language": "python",
   "name": "python3"
  },
  "language_info": {
   "codemirror_mode": {
    "name": "ipython",
    "version": 3
   },
   "file_extension": ".py",
   "mimetype": "text/x-python",
   "name": "python",
   "nbconvert_exporter": "python",
   "pygments_lexer": "ipython3",
   "version": "3.10.12"
  }
 },
 "nbformat": 4,
 "nbformat_minor": 5
}
