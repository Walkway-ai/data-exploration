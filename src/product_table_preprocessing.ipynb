{
 "cells": [
  {
   "cell_type": "code",
   "execution_count": null,
   "metadata": {},
   "outputs": [],
   "source": [
    "import pandas as pd\n",
    "import jupyter_black\n",
    "import black\n",
    "import gc\n",
    "from tqdm import tqdm\n",
    "from pandas_profiling import ProfileReport\n",
    "from datetime import datetime\n",
    "import numpy as np\n",
    "\n",
    "gc.collect()\n",
    "\n",
    "jupyter_black.load(\n",
    "    lab=False,\n",
    "    line_length=100,\n",
    "    verbosity=\"DEBUG\",\n",
    "    target_version=black.TargetVersion.PY310,\n",
    ")\n",
    "\n",
    "pd.set_option('display.max_columns', None)"
   ]
  },
  {
   "cell_type": "code",
   "execution_count": null,
   "metadata": {},
   "outputs": [],
   "source": [
    "df = pd.read_pickle(\"../tmp/product_tables.pickle\")\n",
    "df = df[:-2]"
   ]
  },
  {
   "cell_type": "code",
   "execution_count": null,
   "metadata": {},
   "outputs": [],
   "source": [
    "# Remove columns with more than half elements empty\n",
    "\n",
    "threshold = 0.5\n",
    "df = df.dropna(thresh=int(threshold * len(df)), axis=1)"
   ]
  },
  {
   "cell_type": "code",
   "execution_count": null,
   "metadata": {},
   "outputs": [],
   "source": [
    "# Delete fields that won't be used\n",
    "\n",
    "del df[\"pdt_incexcl_LOCALECODE\"]\n",
    "del df[\"pdt_inclexcl_TYPE\"]\n",
    "del df[\"pdt_incexcl_INCLUSIONEXCLUSIONCLASSTYPE\"]\n",
    "del df[\"pdt_inclexcl_ENG_INCLUSIONEXCLUSIONCLASSTYPE\"]\n",
    "del df[\"pdt_incexcl_TYPE\"]\n",
    "del df[\"pdt_inclexcl_ENG_TYPE\"]\n",
    "del df[\"pdt_itinerary_POIID\"]\n",
    "del df[\"pdt_itinerary_POIORDER\"]\n",
    "del df[\"pdt_itinerary_POITYPEID\"]\n",
    "del df[\"pdt_itinerary_POITYPE\"]\n",
    "del df[\"pdt_itinerary_ISPASSBYPOI\"]\n",
    "del df[\"pdt_itinerary_ADMISSIONINCLUSIONTYPE\"]\n",
    "del df[\"pdt_itinerary_ADMISSIONINCLUSIONTYPEDESCRIPTION\"]\n",
    "del df[\"pdt_product_detail_TOURGRADECODE\"]\n",
    "del df[\"pdt_tourgrades_TOURGRADECODE\"]\n",
    "del df[\"pdt_itinerary_POIDURATIONINMIN\"]\n",
    "del df[\"pdt_itinerary_TALOCATIONID\"]\n",
    "del df[\"pdt_inclexcl_ENG_VIDESTINATIONCITY\"]\n",
    "del df[\"pdt_itinerary_VIDESTINATIONCITY\"]\n",
    "del df[\"pdt_product_level_SUPPLIERCODE\"]\n",
    "del df[\"pdt_product_level_SUPPLIERID\"]\n",
    "del df[\"pdt_product_level_CONFIRMATIONTYPE\"]\n",
    "del df[\"pdt_product_level_BOOKINGCUTOFFFIXEDHOURS\"]\n",
    "del df[\"pdt_product_level_HOURSINADVANCE\"]\n",
    "del df[\"pdt_product_level_HOURSINADVANCEREFERENCEPOINT\"]\n",
    "del df[\"pdt_product_level_HASFIXEDSTARTTIME\"]\n",
    "del df[\"pdt_product_level_PROFESSIONALVIDEOCOUNTLIVE\"]\n",
    "del df[\"pdt_product_level_ISSAPIPRODUCT\"]\n",
    "del df[\"pdt_product_level_SUPPLIERUPLOADEDPHOTOCOUNTS\"]\n",
    "del df[\"pdt_product_level_PROFESSIONALPHOTOCOUNTS\"]\n",
    "del df[\"pdt_product_level_RESTECH\"]\n",
    "del df[\"pdt_product_level_ISHOTELPICKUPAVAILABLE\"]\n",
    "del df[\"pdt_product_level_SUPPLIERCANCANCELONBADWEATHER\"]\n",
    "del df[\"pdt_product_level_TOTALAVGBUBBLERATING\"]\n",
    "del df[\"pdt_product_level_VIDESTINATIONCITY\"]\n",
    "del df[\"pdt_product_level_VIREVIEWCOUNT\"]\n",
    "del df[\"pdt_incexcl_VIDESTINATIONCITY\"]\n",
    "del df[\"pdt_product_level_VISUBCATEGORY\"]\n",
    "del df[\"pdt_product_level_CANCELLATIONPOLICY\"]\n",
    "del df[\"pdt_product_level_TAREVIEWCOUNT\"]\n",
    "del df[\"pdt_product_level_STATUS\"]\n",
    "del df[\"pdt_product_level_FIRSTPUBLISHEDDATE\"]"
   ]
  },
  {
   "cell_type": "code",
   "execution_count": null,
   "metadata": {},
   "outputs": [],
   "source": [
    "# Create separate dataframe with descriptive content\n",
    "\n",
    "df_text = df.copy()\n",
    "\n",
    "descriptive_fields = [\"pdt_incexcl_CONTENT\", \"pdt_inclexcl_INCLUSIONEXCLUSIONTEXT\", \"pdt_inclexcl_ENG_CONTENT\", \"pdt_itinerary_PRODUCTNAME\", \"pdt_itinerary_TAPOINAME\", \"pdt_product_detail_PRODUCTTITLE\", \"pdt_product_detail_PRODUCTDESCRIPTION\", \"pdt_product_detail_VIATOROVERVIEW\", \"pdt_product_detail_TOURGRADETITLE\", \"pdt_product_detail_VIATOROVERVIEWHIGHLIGHTS\", \"pdt_product_detail_TOURGRADEDESCRIPTION\", \"pdt_product_level_PRODUCTNAME\", \"pdt_tourgrades_TITLE\"]\n",
    "\n",
    "df_text = df_text[[\"PRODUCTCODE\"] + descriptive_fields]\n",
    "\n",
    "for del_col in descriptive_fields:\n",
    "\n",
    "    del df[del_col]\n",
    "\n",
    "df_text.to_pickle(\"../tmp/product_tables_descriptive.pickle\")"
   ]
  },
  {
   "cell_type": "code",
   "execution_count": null,
   "metadata": {},
   "outputs": [],
   "source": [
    "# Explode df and start preprocessing of tabular data\n",
    "\n",
    "for col in tqdm(df.columns):\n",
    "\n",
    "    df = df.explode(col)"
   ]
  },
  {
   "cell_type": "code",
   "execution_count": null,
   "metadata": {},
   "outputs": [],
   "source": [
    "df['pdt_product_level_FIRSTPUBLISHEDDATE'] = pd.to_datetime(df['pdt_product_level_FIRSTPUBLISHEDDATE'])"
   ]
  },
  {
   "cell_type": "code",
   "execution_count": null,
   "metadata": {},
   "outputs": [],
   "source": [
    "df.fillna(np.nan, inplace=True)"
   ]
  },
  {
   "cell_type": "code",
   "execution_count": null,
   "metadata": {},
   "outputs": [],
   "source": [
    "df[\"pdt_product_level_MEANRATING\"] = np.mean(df[\"pdt_product_level_TAAVGRATING\"], df[\"pdt_product_level_VIAVGRATING\"])"
   ]
  },
  {
   "cell_type": "code",
   "execution_count": null,
   "metadata": {},
   "outputs": [],
   "source": [
    "# Analyse tabular product data\n",
    "\n",
    "profile = ProfileReport(df)"
   ]
  },
  {
   "cell_type": "code",
   "execution_count": null,
   "metadata": {},
   "outputs": [],
   "source": [
    "profile"
   ]
  },
  {
   "cell_type": "code",
   "execution_count": null,
   "metadata": {},
   "outputs": [],
   "source": []
  }
 ],
 "metadata": {
  "kernelspec": {
   "display_name": "venv",
   "language": "python",
   "name": "python3"
  },
  "language_info": {
   "codemirror_mode": {
    "name": "ipython",
    "version": 3
   },
   "file_extension": ".py",
   "mimetype": "text/x-python",
   "name": "python",
   "nbconvert_exporter": "python",
   "pygments_lexer": "ipython3",
   "version": "3.11.2"
  }
 },
 "nbformat": 4,
 "nbformat_minor": 2
}
