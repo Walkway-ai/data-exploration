{
 "cells": [
  {
   "cell_type": "code",
   "execution_count": 7,
   "metadata": {},
   "outputs": [],
   "source": [
    "import pandas as pd\n",
    "from ydata_profiling import ProfileReport\n",
    "from tqdm import tqdm"
   ]
  },
  {
   "cell_type": "code",
   "execution_count": 8,
   "metadata": {},
   "outputs": [],
   "source": [
    "df = pd.read_pickle(\"../tmp/product_tables.pickle\")"
   ]
  },
  {
   "cell_type": "code",
   "execution_count": 7,
   "metadata": {},
   "outputs": [
    {
     "name": "stderr",
     "output_type": "stream",
     "text": [
      "  1%|          | 1/114 [00:00<00:57,  1.95it/s]"
     ]
    },
    {
     "name": "stdout",
     "output_type": "stream",
     "text": [
      "PRODUCTCODE\n",
      "(21298, 114)\n"
     ]
    },
    {
     "name": "stderr",
     "output_type": "stream",
     "text": [
      "  2%|▏         | 2/114 [00:00<00:46,  2.39it/s]"
     ]
    },
    {
     "name": "stdout",
     "output_type": "stream",
     "text": [
      "pdt_capacity_TOURGRADECODE\n",
      "(21298, 114)\n"
     ]
    },
    {
     "name": "stderr",
     "output_type": "stream",
     "text": [
      "  3%|▎         | 3/114 [00:01<00:47,  2.31it/s]"
     ]
    },
    {
     "name": "stdout",
     "output_type": "stream",
     "text": [
      "pdt_capacity_AVAILABILITYSTATUS\n",
      "(21298, 114)\n"
     ]
    },
    {
     "name": "stderr",
     "output_type": "stream",
     "text": [
      "  4%|▎         | 4/114 [00:01<00:49,  2.23it/s]"
     ]
    },
    {
     "name": "stdout",
     "output_type": "stream",
     "text": [
      "pdt_capacity_CAPACITY\n",
      "(21298, 114)\n"
     ]
    },
    {
     "name": "stderr",
     "output_type": "stream",
     "text": [
      "  4%|▍         | 5/114 [00:02<00:48,  2.26it/s]"
     ]
    },
    {
     "name": "stdout",
     "output_type": "stream",
     "text": [
      "pdt_capacity_CONSUMEDBYADULT\n",
      "(21298, 114)\n"
     ]
    },
    {
     "name": "stderr",
     "output_type": "stream",
     "text": [
      "  5%|▌         | 6/114 [00:02<00:48,  2.22it/s]"
     ]
    },
    {
     "name": "stdout",
     "output_type": "stream",
     "text": [
      "pdt_capacity_CONSUMEDBYSENIOR\n",
      "(21298, 114)\n"
     ]
    },
    {
     "name": "stderr",
     "output_type": "stream",
     "text": [
      "  6%|▌         | 7/114 [00:03<00:45,  2.33it/s]"
     ]
    },
    {
     "name": "stdout",
     "output_type": "stream",
     "text": [
      "pdt_capacity_CONSUMEDBYYOUTH\n",
      "(21298, 114)\n"
     ]
    },
    {
     "name": "stderr",
     "output_type": "stream",
     "text": [
      "  7%|▋         | 8/114 [00:03<00:43,  2.46it/s]"
     ]
    },
    {
     "name": "stdout",
     "output_type": "stream",
     "text": [
      "pdt_capacity_CONSUMEDBYCHILD\n",
      "(21298, 114)\n"
     ]
    },
    {
     "name": "stderr",
     "output_type": "stream",
     "text": [
      "  8%|▊         | 9/114 [00:03<00:39,  2.63it/s]"
     ]
    },
    {
     "name": "stdout",
     "output_type": "stream",
     "text": [
      "pdt_capacity_CONSUMEDBYINFANT\n",
      "(21298, 114)\n"
     ]
    },
    {
     "name": "stderr",
     "output_type": "stream",
     "text": [
      "  9%|▉         | 10/114 [00:04<00:41,  2.51it/s]"
     ]
    },
    {
     "name": "stdout",
     "output_type": "stream",
     "text": [
      "pdt_capacity_STARTTIME\n",
      "(21298, 114)\n"
     ]
    },
    {
     "name": "stderr",
     "output_type": "stream",
     "text": [
      " 10%|▉         | 11/114 [00:04<00:42,  2.45it/s]"
     ]
    },
    {
     "name": "stdout",
     "output_type": "stream",
     "text": [
      "pdt_capacity_AVAILABILITYDATE\n",
      "(21298, 114)\n"
     ]
    },
    {
     "name": "stderr",
     "output_type": "stream",
     "text": [
      " 11%|█         | 12/114 [00:05<00:42,  2.41it/s]"
     ]
    },
    {
     "name": "stdout",
     "output_type": "stream",
     "text": [
      "pdt_capacity_BOOKINGCUTOFF\n",
      "(21298, 114)\n"
     ]
    },
    {
     "name": "stderr",
     "output_type": "stream",
     "text": [
      " 11%|█▏        | 13/114 [00:05<00:36,  2.80it/s]"
     ]
    },
    {
     "name": "stdout",
     "output_type": "stream",
     "text": [
      "pdt_capacity_BOOKINGCUTOFFUTC\n",
      "(21298, 114)\n"
     ]
    },
    {
     "name": "stderr",
     "output_type": "stream",
     "text": [
      " 12%|█▏        | 14/114 [00:05<00:31,  3.14it/s]"
     ]
    },
    {
     "name": "stdout",
     "output_type": "stream",
     "text": [
      "pdt_capacity_UPDATEDAT\n",
      "(21298, 114)\n"
     ]
    },
    {
     "name": "stderr",
     "output_type": "stream",
     "text": [
      " 13%|█▎        | 15/114 [00:05<00:28,  3.42it/s]"
     ]
    },
    {
     "name": "stdout",
     "output_type": "stream",
     "text": [
      "pdt_capacity_UPDATEDATUTC\n",
      "(21298, 114)\n"
     ]
    },
    {
     "name": "stderr",
     "output_type": "stream",
     "text": [
      " 14%|█▍        | 16/114 [00:06<00:28,  3.39it/s]"
     ]
    },
    {
     "name": "stdout",
     "output_type": "stream",
     "text": [
      "pdt_incexcl_INCLUSIONEXCLUSIONCLASSTYPE\n",
      "(28723, 114)\n"
     ]
    },
    {
     "name": "stderr",
     "output_type": "stream",
     "text": [
      " 15%|█▍        | 17/114 [00:06<00:34,  2.80it/s]"
     ]
    },
    {
     "name": "stdout",
     "output_type": "stream",
     "text": [
      "pdt_incexcl_TYPE\n",
      "(43573, 114)\n"
     ]
    },
    {
     "name": "stderr",
     "output_type": "stream",
     "text": [
      " 16%|█▌        | 18/114 [00:08<01:20,  1.19it/s]"
     ]
    },
    {
     "name": "stdout",
     "output_type": "stream",
     "text": [
      "pdt_incexcl_LOCALECODE\n",
      "(481426, 114)\n"
     ]
    },
    {
     "name": "stderr",
     "output_type": "stream",
     "text": [
      " 17%|█▋        | 19/114 [00:12<02:38,  1.66s/it]"
     ]
    },
    {
     "name": "stdout",
     "output_type": "stream",
     "text": [
      "pdt_incexcl_VIDESTINATIONCITY\n",
      "(481426, 114)\n"
     ]
    },
    {
     "name": "stderr",
     "output_type": "stream",
     "text": [
      " 18%|█▊        | 20/114 [00:17<04:33,  2.91s/it]"
     ]
    },
    {
     "name": "stdout",
     "output_type": "stream",
     "text": [
      "pdt_inclexcl_TYPE\n",
      "(920652, 114)\n"
     ]
    },
    {
     "ename": "",
     "evalue": "",
     "output_type": "error",
     "traceback": [
      "\u001b[1;31mThe Kernel crashed while executing code in the current cell or a previous cell. \n",
      "\u001b[1;31mPlease review the code in the cell(s) to identify a possible cause of the failure. \n",
      "\u001b[1;31mClick <a href='https://aka.ms/vscodeJupyterKernelCrash'>here</a> for more info. \n",
      "\u001b[1;31mView Jupyter <a href='command:jupyter.viewOutput'>log</a> for further details."
     ]
    }
   ],
   "source": [
    "for col in tqdm(df.columns):\n",
    "\n",
    "    df = df.explode(col)\n",
    "    print(col)\n",
    "    print(df.shape)"
   ]
  },
  {
   "cell_type": "code",
   "execution_count": null,
   "metadata": {},
   "outputs": [],
   "source": [
    "df"
   ]
  },
  {
   "cell_type": "code",
   "execution_count": null,
   "metadata": {},
   "outputs": [],
   "source": [
    "profile = ProfileReport(df, title=\"Profiling Report\")"
   ]
  },
  {
   "cell_type": "code",
   "execution_count": 7,
   "metadata": {},
   "outputs": [],
   "source": [
    "profile.to_file(\"../tmp/output.html\")"
   ]
  },
  {
   "cell_type": "code",
   "execution_count": null,
   "metadata": {},
   "outputs": [],
   "source": [
    "def clean_dataframe(df):\n",
    "\n",
    "    df.fillna(\"\", inplace=True)\n",
    "    \n",
    "    # For numerical columns, you might want to fill with mean/median\n",
    "    for col in df.select_dtypes(include=[np.number]).columns:\n",
    "        df[col].fillna(df[col].mean(), inplace=True)\n",
    "        \n",
    "    # Convert categorical columns with fill missing values and encode\n",
    "    categorical_cols = df.select_dtypes(include=[object]).columns\n",
    "    for col in categorical_cols:\n",
    "        df[col].fillna('unknown', inplace=True)\n",
    "        if df[col].nunique() < 10:  # Using one-hot encoding for columns with fewer unique values\n",
    "            df = pd.get_dummies(df, columns=[col], drop_first=True)\n",
    "        else:  # Using label encoding for columns with many unique values\n",
    "            le = LabelEncoder()\n",
    "            df[col] = le.fit_transform(df[col])\n",
    "    \n",
    "    # Handling columns with lists\n",
    "    list_cols = ['list_col1', 'list_col2']  # Replace with your actual list columns\n",
    "    for col in list_cols:\n",
    "        df[col] = df[col].apply(lambda x: x if isinstance(x, list) else [])\n",
    "        \n",
    "        # Example: flatten list columns by converting list of numbers to mean value\n",
    "        if df[col].apply(lambda x: all(isinstance(i, (int, float)) for i in x)).all():\n",
    "            df[col] = df[col].apply(lambda x: np.mean(x) if len(x) > 0 else 0)\n",
    "        # Example: convert list of lists to string or other appropriate representation\n",
    "        elif df[col].apply(lambda x: all(isinstance(i, list) for i in x)).all():\n",
    "            df[col] = df[col].apply(lambda x: ' '.join(map(str, x)) if len(x) > 0 else '')\n",
    "    \n",
    "    # Geolocation - assuming they are in format (lat, long)\n",
    "    if 'geolocation' in df.columns:\n",
    "        df[['latitude', 'longitude']] = df['geolocation'].apply(pd.Series)\n",
    "        df.drop('geolocation', axis=1, inplace=True)\n",
    "        \n",
    "    return df\n",
    "\n",
    "# Apply the cleaning function\n",
    "cleaned_df = clean_dataframe(df)\n",
    "\n",
    "# Checking correlation\n",
    "correlation_matrix = cleaned_df.corr()\n",
    "\n",
    "# Displaying high correlations\n",
    "high_correlation_pairs = correlation_matrix.abs().unstack().sort_values(kind=\"quicksort\", ascending=False)\n",
    "high_correlation_pairs = high_correlation_pairs[high_correlation_pairs != 1]  # Exclude self-correlations\n",
    "\n",
    "print(high_correlation_pairs.head(10))  # Print top 10 highest correlations"
   ]
  },
  {
   "cell_type": "code",
   "execution_count": null,
   "metadata": {},
   "outputs": [],
   "source": []
  }
 ],
 "metadata": {
  "kernelspec": {
   "display_name": "venv",
   "language": "python",
   "name": "python3"
  },
  "language_info": {
   "codemirror_mode": {
    "name": "ipython",
    "version": 3
   },
   "file_extension": ".py",
   "mimetype": "text/x-python",
   "name": "python",
   "nbconvert_exporter": "python",
   "pygments_lexer": "ipython3",
   "version": "3.11.2"
  }
 },
 "nbformat": 4,
 "nbformat_minor": 2
}
